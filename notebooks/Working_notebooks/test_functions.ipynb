{
 "cells": [
  {
   "cell_type": "code",
   "execution_count": 1,
   "metadata": {},
   "outputs": [],
   "source": [
    "import numpy as np\n",
    "import pandas as pd\n",
    "import matplotlib.pyplot as plt\n",
    "import scipy.stats as stats\n",
    "import cp_comparitor as cp_Comp\n",
    "import change_point_tools as cp_Tools\n",
    "import sdt\n"
   ]
  },
  {
   "cell_type": "code",
   "execution_count": 2,
   "metadata": {},
   "outputs": [
    {
     "name": "stdout",
     "output_type": "stream",
     "text": [
      "John\n"
     ]
    }
   ],
   "source": [
    "def my_function(**kwargs):\n",
    "    #for key, value in kwargs.items():\n",
    "    #print(kwargs.items())\n",
    "    #key, value = kwargs.items()\n",
    "    operator = kwargs.get('name')\n",
    "    #dict_items['name']\n",
    "    #name\n",
    "    #ame = kwargs.name\n",
    "    print(operator)\n",
    "#rint(name)        \n",
    "# Example usage\n",
    "my_function(name=\"John\", age=30, city=\"New York\")"
   ]
  },
  {
   "cell_type": "code",
   "execution_count": 3,
   "metadata": {},
   "outputs": [
    {
     "name": "stdout",
     "output_type": "stream",
     "text": [
      "[ 0.          0.          0.         -0.41377403 -0.48766225 -0.58045433\n",
      " -0.5758028  -0.57436813 -0.50830627 -0.6666969  -0.59621748 -0.3836478\n",
      " -0.90480294 -0.32377782 -0.19491305  0.1032602  -0.08891012  0.0098789\n",
      "  0.50984722  0.18354798] [1.00000000e+00 1.00000000e+00 1.00000000e+00 2.34565721e-01\n",
      " 1.52780877e-01 7.85205455e-02 8.15232619e-02 8.24641084e-02\n",
      " 1.33574927e-01 3.52538635e-02 6.88801850e-02 2.73766807e-01\n",
      " 3.19871808e-04 3.61431171e-01 5.89460159e-01 7.76511452e-01\n",
      " 8.07039283e-01 9.78392010e-01 1.32204323e-01 6.11744413e-01]\n"
     ]
    },
    {
     "name": "stderr",
     "output_type": "stream",
     "text": [
      "c:\\Users\\ada55080\\.conda\\envs\\sdt\\lib\\site-packages\\scipy\\stats\\_stats_py.py:4916: ConstantInputWarning: An input array is constant; the correlation coefficient is not defined.\n",
      "  warnings.warn(stats.ConstantInputWarning(warn_msg))\n"
     ]
    }
   ],
   "source": [
    "vec1 = np.array([0,0,0,0,0,0,0,0,0,0,0,0,1,1,1,9,2,2,3,3,4,3,3,7,2,2,2,1,8,1,1,0,0,0,0,0,0,0,0,0,0,0,30,0,0,0,0,0,0,0,0,0,0])\n",
    "vec2 = np.array([0,1,1,8,1,2,2,3,3,4,3,3,7,3,2,2,2,1,16,1,1,1,0,0,0,0,0,0,0,0,0,0,0])\n",
    "\n",
    "vect1 = np.array([0,0,0,0,1,2,3,4,3,2,1,0])\n",
    "vect2 = np.array([0,1,2,3,4,3,2,1,0,0,0,0])\n",
    "def spearman_offset(comparitee_vector, comparitor_vector, **kwargs):\n",
    "    _window = kwargs.get('window')\n",
    "    stat = []\n",
    "    pvalue = []\n",
    "    tee = comparitee_vector\n",
    "    tor = comparitor_vector\n",
    "\n",
    "    if len(tor)<len(tee[:_window]):\n",
    "        print(\"Comparitor is shorter than comparitee, this won't do, try a shorter sequence\") \n",
    "    else:\n",
    "        for i in range(len(tor)-len(tee)):\n",
    "            SigRes = (stats.spearmanr(tor[i:i+_window],tee[:_window]))\n",
    "            stat.append(SigRes.statistic)\n",
    "            pvalue.append(SigRes.pvalue)\n",
    "        statAray = np.array(stat)\n",
    "        statAray = np.nan_to_num(statAray, nan=0.0)\n",
    "        \n",
    "        pvalueAray = np.array(pvalue)\n",
    "        pvalueAray = np.nan_to_num(pvalueAray, nan=1)\n",
    "        print(statAray,pvalueAray)\n",
    "    #return np.mean([statAray.argmax(), pvalueAray.argmin()])\n",
    "    return pvalueAray.argmin(), statAray.argmax()\n",
    "\n",
    "speof = spearman_offset(vec2*-10.44, vec1, window=10)"
   ]
  },
  {
   "cell_type": "code",
   "execution_count": 5,
   "metadata": {},
   "outputs": [],
   "source": [
    "#import numpy as np\n",
    "#from welly import Well\n",
    "\n",
    "def replace_outliers_with_local_average(curve, percent, window_size):\n",
    "    # Load the well log data\n",
    "    #w = \n",
    "\n",
    "    # Get the curve data\n",
    "    \n",
    "\n",
    "    # Calculate the lower and upper percentile values\n",
    "    low_value = np.percentile(curve, percent)\n",
    "    high_value = np.percentile(curve, 100 - percent)\n",
    "\n",
    "    # Identify outlier data points\n",
    "    outliers = np.logical_or(curve < low_value, curve > high_value)\n",
    "\n",
    "    # Replace outliers with local average\n",
    "    curve[outliers] = np.convolve(curve, np.ones(window_size)/window_size, mode='same')[outliers]\n",
    "\n",
    "    # Update the well log curve with the replaced values\n",
    "    w = curve\n",
    "\n",
    "    return w"
   ]
  },
  {
   "cell_type": "code",
   "execution_count": 6,
   "metadata": {},
   "outputs": [
    {
     "data": {
      "text/plain": [
       "(12, 18)"
      ]
     },
     "execution_count": 6,
     "metadata": {},
     "output_type": "execute_result"
    },
    {
     "data": {
      "image/png": "[encoded data removed]",
      "text/plain": [
       "<Figure size 640x480 with 1 Axes>"
      ]
     },
     "metadata": {},
     "output_type": "display_data"
    }
   ],
   "source": [
    "plt.plot(vec1, np.arange(len(vec1)) )\n",
    "\n",
    "plt.plot(vec2*-10.44, np.arange(len(vec2))+speof[0])\n",
    "\n",
    "speof"
   ]
  },
  {
   "cell_type": "code",
   "execution_count": 16,
   "metadata": {},
   "outputs": [
    {
     "name": "stdout",
     "output_type": "stream",
     "text": [
      "method- full_covprior- constengine -numba\n"
     ]
    },
    {
     "ename": "TypingError",
     "evalue": "Failed in nopython mode pipeline (step: nopython frontend)\n\u001b[1m\u001b[1m\u001b[1m\u001b[1m- Resolution failure for literal arguments:\n\u001b[1mFailed in nopython mode pipeline (step: native lowering)\n\u001b[1m\u001b[1mCan only insert double* at [4] in {i8*, i8*, i64, i64, double*, [2 x i64], [2 x i64]}: got i32*\n\u001b[1m\nFile \"..\\..\\.conda\\envs\\sdt\\lib\\site-packages\\sdt\\changepoint\\bayes_offline.py\", line 42:\u001b[0m\n\u001b[1m    def set_data(self, data):\n        <source elided>\n        \"\"\"\n\u001b[1m        self._data = data\n\u001b[0m        \u001b[1m^\u001b[0m\u001b[0m\n\u001b[0m\n\u001b[0m\u001b[1mDuring: lowering \"(self)._data = data\" at c:\\Users\\ada55080\\.conda\\envs\\sdt\\lib\\site-packages\\sdt\\changepoint\\bayes_offline.py (42)\u001b[0m\u001b[0m\n\u001b[0m\u001b[1m- Resolution failure for non-literal arguments:\n\u001b[1mNone\u001b[0m\n\u001b[0m\u001b[0m\n\u001b[0m\u001b[1mDuring: resolving callee type: BoundFunction((<class 'numba.core.types.misc.ClassInstanceType'>, 'set_data') for instance.jitclass.ConstPrior#1e3fb24bc10<_data:array(float64, 2d, A),_prior:float64>)\u001b[0m\n\u001b[0m\u001b[1mDuring: typing of call at <string> (3)\n\u001b[0m\n\u001b[1m\nFile \"<string>\", line 3:\u001b[0m\n\u001b[1m<source missing, REPL/exec in use?>\u001b[0m\n",
     "output_type": "error",
     "traceback": [
      "\u001b[1;31m---------------------------------------------------------------------------\u001b[0m",
      "\u001b[1;31mTypingError\u001b[0m                               Traceback (most recent call last)",
      "Cell \u001b[1;32mIn[16], line 4\u001b[0m\n\u001b[0;32m      1\u001b[0m \u001b[38;5;66;03m#cp_comparitor.Cosine(vec1[11:18], vec2[:7])\u001b[39;00m\n\u001b[0;32m      2\u001b[0m vec3 \u001b[38;5;241m=\u001b[39m [\u001b[38;5;241m1\u001b[39m,\u001b[38;5;241m2\u001b[39m,\u001b[38;5;241m3\u001b[39m,\u001b[38;5;241m5\u001b[39m,\u001b[38;5;241m8\u001b[39m,\u001b[38;5;241m13\u001b[39m,\u001b[38;5;241m21\u001b[39m,\u001b[38;5;241m34\u001b[39m]\n\u001b[1;32m----> 4\u001b[0m cps  \u001b[38;5;241m=\u001b[39m \u001b[43mcp_Tools\u001b[49m\u001b[38;5;241;43m.\u001b[39;49m\u001b[43mbayes_offline_sdt\u001b[49m\u001b[43m(\u001b[49m\u001b[43mvec1\u001b[49m\u001b[43m)\u001b[49m\n\u001b[0;32m      6\u001b[0m \u001b[38;5;66;03m#vectee = np.vstack((vec3, vec2[:8]))\u001b[39;00m\n\u001b[0;32m      7\u001b[0m \u001b[38;5;66;03m#vector = np.vstack((vec3, vec2[:8]))\u001b[39;00m\n\u001b[0;32m      8\u001b[0m \u001b[38;5;66;03m#test = cp_comparitor.cpCompConstructor(vector)\u001b[39;00m\n\u001b[0;32m      9\u001b[0m \u001b[38;5;66;03m#corr = cp_comparitor.cpCorrelation(vectee, vector, operator='cosine', thresh=0.9999)\u001b[39;00m\n\u001b[0;32m     10\u001b[0m \u001b[38;5;66;03m#test\u001b[39;00m\n",
      "File \u001b[1;32mc:\\Users\\ada55080\\git\\different_bayes\\change_point_tools.py:128\u001b[0m, in \u001b[0;36mbayes_offline_sdt\u001b[1;34m(data, **kwargs)\u001b[0m\n\u001b[0;32m    124\u001b[0m     \u001b[39mreturn\u001b[39;00m detOffBay\u001b[39m.\u001b[39mfind_changepoints(data\u001b[39m.\u001b[39mT, prob_threshold\u001b[39m=\u001b[39m_thresh)\n\u001b[0;32m    126\u001b[0m \u001b[39melse\u001b[39;00m:\n\u001b[0;32m    127\u001b[0m     \u001b[39m#detOffBay = sdt_cp.BayesOffline(_prior, _method, engine=_engine)\u001b[39;00m\n\u001b[1;32m--> 128\u001b[0m     \u001b[39mreturn\u001b[39;00m detOffBay\u001b[39m.\u001b[39;49mfind_changepoints(data\u001b[39m.\u001b[39;49mT)\n",
      "File \u001b[1;32mc:\\Users\\ada55080\\.conda\\envs\\sdt\\lib\\site-packages\\sdt\\changepoint\\bayes_offline.py:652\u001b[0m, in \u001b[0;36mBayesOffline.find_changepoints\u001b[1;34m(self, data, prob_threshold, full_output, truncate)\u001b[0m\n\u001b[0;32m    650\u001b[0m \u001b[39mif\u001b[39;00m data\u001b[39m.\u001b[39mndim \u001b[39m==\u001b[39m \u001b[39m1\u001b[39m:\n\u001b[0;32m    651\u001b[0m     data \u001b[39m=\u001b[39m data\u001b[39m.\u001b[39mreshape((\u001b[39m-\u001b[39m\u001b[39m1\u001b[39m, \u001b[39m1\u001b[39m))\n\u001b[1;32m--> 652\u001b[0m \u001b[39mself\u001b[39;49m\u001b[39m.\u001b[39;49mprior\u001b[39m.\u001b[39;49mset_data(data)\n\u001b[0;32m    653\u001b[0m \u001b[39mself\u001b[39m\u001b[39m.\u001b[39mobs_likelihood\u001b[39m.\u001b[39mset_data(data)\n\u001b[0;32m    655\u001b[0m Q, P, Pcp \u001b[39m=\u001b[39m \u001b[39mself\u001b[39m\u001b[39m.\u001b[39msegmentation(\u001b[39mself\u001b[39m\u001b[39m.\u001b[39mprior, \u001b[39mself\u001b[39m\u001b[39m.\u001b[39mobs_likelihood,\n\u001b[0;32m    656\u001b[0m                               truncate, \u001b[39mself\u001b[39m\u001b[39m.\u001b[39mlogsumexp)\n",
      "File \u001b[1;32mc:\\Users\\ada55080\\.conda\\envs\\sdt\\lib\\site-packages\\numba\\experimental\\jitclass\\boxing.py:61\u001b[0m, in \u001b[0;36m_generate_method.<locals>.wrapper\u001b[1;34m(*args, **kwargs)\u001b[0m\n\u001b[0;32m     59\u001b[0m \u001b[39m@wraps\u001b[39m(func)\n\u001b[0;32m     60\u001b[0m \u001b[39mdef\u001b[39;00m \u001b[39mwrapper\u001b[39m(\u001b[39m*\u001b[39margs, \u001b[39m*\u001b[39m\u001b[39m*\u001b[39mkwargs):\n\u001b[1;32m---> 61\u001b[0m     \u001b[39mreturn\u001b[39;00m method(\u001b[39m*\u001b[39margs, \u001b[39m*\u001b[39m\u001b[39m*\u001b[39mkwargs)\n",
      "File \u001b[1;32mc:\\Users\\ada55080\\.conda\\envs\\sdt\\lib\\site-packages\\numba\\core\\dispatcher.py:468\u001b[0m, in \u001b[0;36m_DispatcherBase._compile_for_args\u001b[1;34m(self, *args, **kws)\u001b[0m\n\u001b[0;32m    464\u001b[0m         msg \u001b[39m=\u001b[39m (\u001b[39mf\u001b[39m\u001b[39m\"\u001b[39m\u001b[39m{\u001b[39;00m\u001b[39mstr\u001b[39m(e)\u001b[39m.\u001b[39mrstrip()\u001b[39m}\u001b[39;00m\u001b[39m \u001b[39m\u001b[39m\\n\u001b[39;00m\u001b[39m\\n\u001b[39;00m\u001b[39mThis error may have been caused \u001b[39m\u001b[39m\"\u001b[39m\n\u001b[0;32m    465\u001b[0m                \u001b[39mf\u001b[39m\u001b[39m\"\u001b[39m\u001b[39mby the following argument(s):\u001b[39m\u001b[39m\\n\u001b[39;00m\u001b[39m{\u001b[39;00margs_str\u001b[39m}\u001b[39;00m\u001b[39m\\n\u001b[39;00m\u001b[39m\"\u001b[39m)\n\u001b[0;32m    466\u001b[0m         e\u001b[39m.\u001b[39mpatch_message(msg)\n\u001b[1;32m--> 468\u001b[0m     error_rewrite(e, \u001b[39m'\u001b[39;49m\u001b[39mtyping\u001b[39;49m\u001b[39m'\u001b[39;49m)\n\u001b[0;32m    469\u001b[0m \u001b[39mexcept\u001b[39;00m errors\u001b[39m.\u001b[39mUnsupportedError \u001b[39mas\u001b[39;00m e:\n\u001b[0;32m    470\u001b[0m     \u001b[39m# Something unsupported is present in the user code, add help info\u001b[39;00m\n\u001b[0;32m    471\u001b[0m     error_rewrite(e, \u001b[39m'\u001b[39m\u001b[39munsupported_error\u001b[39m\u001b[39m'\u001b[39m)\n",
      "File \u001b[1;32mc:\\Users\\ada55080\\.conda\\envs\\sdt\\lib\\site-packages\\numba\\core\\dispatcher.py:409\u001b[0m, in \u001b[0;36m_DispatcherBase._compile_for_args.<locals>.error_rewrite\u001b[1;34m(e, issue_type)\u001b[0m\n\u001b[0;32m    407\u001b[0m     \u001b[39mraise\u001b[39;00m e\n\u001b[0;32m    408\u001b[0m \u001b[39melse\u001b[39;00m:\n\u001b[1;32m--> 409\u001b[0m     \u001b[39mraise\u001b[39;00m e\u001b[39m.\u001b[39mwith_traceback(\u001b[39mNone\u001b[39;00m)\n",
      "\u001b[1;31mTypingError\u001b[0m: Failed in nopython mode pipeline (step: nopython frontend)\n\u001b[1m\u001b[1m\u001b[1m\u001b[1m- Resolution failure for literal arguments:\n\u001b[1mFailed in nopython mode pipeline (step: native lowering)\n\u001b[1m\u001b[1mCan only insert double* at [4] in {i8*, i8*, i64, i64, double*, [2 x i64], [2 x i64]}: got i32*\n\u001b[1m\nFile \"..\\..\\.conda\\envs\\sdt\\lib\\site-packages\\sdt\\changepoint\\bayes_offline.py\", line 42:\u001b[0m\n\u001b[1m    def set_data(self, data):\n        <source elided>\n        \"\"\"\n\u001b[1m        self._data = data\n\u001b[0m        \u001b[1m^\u001b[0m\u001b[0m\n\u001b[0m\n\u001b[0m\u001b[1mDuring: lowering \"(self)._data = data\" at c:\\Users\\ada55080\\.conda\\envs\\sdt\\lib\\site-packages\\sdt\\changepoint\\bayes_offline.py (42)\u001b[0m\u001b[0m\n\u001b[0m\u001b[1m- Resolution failure for non-literal arguments:\n\u001b[1mNone\u001b[0m\n\u001b[0m\u001b[0m\n\u001b[0m\u001b[1mDuring: resolving callee type: BoundFunction((<class 'numba.core.types.misc.ClassInstanceType'>, 'set_data') for instance.jitclass.ConstPrior#1e3fb24bc10<_data:array(float64, 2d, A),_prior:float64>)\u001b[0m\n\u001b[0m\u001b[1mDuring: typing of call at <string> (3)\n\u001b[0m\n\u001b[1m\nFile \"<string>\", line 3:\u001b[0m\n\u001b[1m<source missing, REPL/exec in use?>\u001b[0m\n"
     ]
    }
   ],
   "source": [
    "#cp_comparitor.Cosine(vec1[11:18], vec2[:7])\n",
    "vec3 = [1,2,3,5,8,13,21,34]\n",
    "\n",
    "cps  = cp_Tools.bayes_offline_sdt(vec1)\n",
    "\n",
    "#vectee = np.vstack((vec3, vec2[:8]))\n",
    "#vector = np.vstack((vec3, vec2[:8]))\n",
    "#test = cp_comparitor.cpCompConstructor(vector)\n",
    "#corr = cp_comparitor.cpCorrelation(vectee, vector, operator='cosine', thresh=0.9999)\n",
    "#test"
   ]
  },
  {
   "cell_type": "code",
   "execution_count": null,
   "metadata": {},
   "outputs": [
    {
     "data": {
      "text/plain": [
       "[<matplotlib.lines.Line2D at 0x219da69f010>]"
      ]
     },
     "execution_count": 5,
     "metadata": {},
     "output_type": "execute_result"
    },
    {
     "data": {
      "image/png": "[encoded data removed]",
      "text/plain": [
       "<Figure size 640x480 with 1 Axes>"
      ]
     },
     "metadata": {},
     "output_type": "display_data"
    }
   ],
   "source": [
    "plt.plot(corr)"
   ]
  },
  {
   "cell_type": "code",
   "execution_count": 6,
   "metadata": {},
   "outputs": [
    {
     "data": {
      "text/plain": [
       "array([[0, 1],\n",
       "       [2, 3]])"
      ]
     },
     "execution_count": 6,
     "metadata": {},
     "output_type": "execute_result"
    }
   ],
   "source": [
    "# import fastdtw\n",
    "# import scipy.spatial.distance as sd\n",
    "\n",
    "# def my_fastdtw(x, y):\n",
    "#     return fastdtw.fastdtw(x,y)[0]\n",
    "\n",
    "# distance_matrix = sd.pdist(y,my_fastdtw)\n",
    "\n",
    "np.arange(4).reshape(2,2)"
   ]
  },
  {
   "cell_type": "code",
   "execution_count": 9,
   "metadata": {},
   "outputs": [],
   "source": [
    "import numpy as np\n",
    "from scipy.spatial.distance import euclidean\n",
    "\n",
    "from fastdtw import fastdtw\n",
    "#_log_choice = 'Roll_Avg_NPHI'\n",
    "#f1B_DTW = data_f1B['DEPTH',_log_choice][_log_extent_min[1]:_log_extent_max[1]].to_numpy()\n",
    "#f11A_DTW = data_f11A[_log_choice][_log_extent_min[3]:_log_extent_max[3]].to_xarray()\n",
    "#f1A_DTW = data_f1A[_log_choice][_log_extent_min[0]:_log_extent_max[0]].to_xarray()\n",
    "#x = np.array([[1,1], [2,2], [3,3], [4,4], [5,5]])\n",
    "#y = np.array([[2,2], [3,3], [4,4]])\n",
    "\n",
    "\n",
    "#y = np.column_stack((data_f1B[_log_extent_min[1]:_log_extent_max[1]].index, data_f1B[_log_choice][_log_extent_min[1]:_log_extent_max[1]]))\n",
    "#x = np.column_stack((data_f11A[_log_extent_min[3]:_log_extent_max[3]].index, data_f11A[_log_choice][_log_extent_min[3]:_log_extent_max[3]]))\n",
    "# distance, path = fastdtw(x, y, dist=euclidean)\n",
    "# print(distance)\n",
    "# plt.plot(path)\n",
    "#\n",
    "\n",
    "\n",
    "def dtw_offset(comparitee_vector, comparitor_vector, **kwargs):\n",
    "    _window = kwargs.get('window')\n",
    "    distance = []\n",
    "    path = []\n",
    "    tee = comparitee_vector\n",
    "    tor = comparitor_vector\n",
    "    iter = len(tor)-len(tee)\n",
    "    if len(tor)<len(tee[:_window]):\n",
    "        print(\"Comparitor is shorter than comparitee, this won't do, try a shorter sequence\") \n",
    "    else:\n",
    "        for i in range(iter):\n",
    "            _distance, _path = fastdtw(tor[i:i+_window],tee[:_window], dist=euclidean)\n",
    "            distance.append(_distance)\n",
    "            path.append(_path)\n",
    "        distanceAray = np.array(distance)\n",
    "        #statAray = np.nan_to_num(statAray, nan=0.0)\n",
    "        \n",
    "        #pathAray = np.array(path)#.reshape(_window,iter)\n",
    "        #pvalueAray = np.nan_to_num(pvalueAray, nan=1)\n",
    "        #print('statArgmax= ' + str(statAray.argmax()) + ' val ' + str(statAray[statAray.argmax()]))\n",
    "        #print('pvalArgmin= ' + str(pvalueAray.argmin()) + ' val ' + str(pvalueAray[pvalueAray.argmin()]))\n",
    "        #print\n",
    "    return distanceAray, path"
   ]
  },
  {
   "cell_type": "code",
   "execution_count": 10,
   "metadata": {},
   "outputs": [
    {
     "data": {
      "text/plain": [
       "(array([ 20.        ,  23.32471525,  27.93026652,  33.35767221,\n",
       "         40.57787227,  48.92994733,  58.62640129,  69.26029068,\n",
       "         80.39684843,  90.38769597, 100.24937811, 110.        ,\n",
       "        120.20797289, 130.26883367, 140.49828433, 150.76361889,\n",
       "        160.90176075, 171.11186954, 181.16044273, 191.20303536,\n",
       "        200.97123744, 210.99606776, 221.06290819, 230.99539007,\n",
       "        241.03703191, 251.0357845 , 260.99624975, 270.9781242 ,\n",
       "        280.96126804, 290.9455532 , 300.89754412, 310.86874101,\n",
       "        320.8417248 , 330.81633457, 340.79242811, 350.7698793 ,\n",
       "        360.7485759 , 370.72841769, 380.70931488, 390.69118684,\n",
       "        400.67396093, 410.65757153]),\n",
       " [[(0, 0),\n",
       "   (1, 1),\n",
       "   (2, 2),\n",
       "   (3, 3),\n",
       "   (4, 4),\n",
       "   (5, 5),\n",
       "   (6, 6),\n",
       "   (7, 7),\n",
       "   (8, 8),\n",
       "   (9, 9)],\n",
       "  [(0, 0),\n",
       "   (1, 1),\n",
       "   (2, 2),\n",
       "   (3, 3),\n",
       "   (4, 4),\n",
       "   (5, 5),\n",
       "   (6, 6),\n",
       "   (7, 7),\n",
       "   (8, 8),\n",
       "   (9, 9)],\n",
       "  [(0, 0),\n",
       "   (0, 1),\n",
       "   (1, 2),\n",
       "   (2, 3),\n",
       "   (3, 4),\n",
       "   (4, 5),\n",
       "   (5, 6),\n",
       "   (6, 7),\n",
       "   (7, 8),\n",
       "   (8, 9),\n",
       "   (9, 9)],\n",
       "  [(0, 0),\n",
       "   (0, 1),\n",
       "   (0, 2),\n",
       "   (1, 3),\n",
       "   (2, 4),\n",
       "   (3, 5),\n",
       "   (4, 6),\n",
       "   (5, 7),\n",
       "   (6, 8),\n",
       "   (7, 9),\n",
       "   (8, 9),\n",
       "   (9, 9)],\n",
       "  [(0, 0),\n",
       "   (0, 1),\n",
       "   (0, 2),\n",
       "   (0, 3),\n",
       "   (1, 4),\n",
       "   (2, 5),\n",
       "   (3, 6),\n",
       "   (4, 7),\n",
       "   (5, 8),\n",
       "   (6, 9),\n",
       "   (7, 9),\n",
       "   (8, 9),\n",
       "   (9, 9)],\n",
       "  [(0, 0),\n",
       "   (0, 1),\n",
       "   (0, 2),\n",
       "   (0, 3),\n",
       "   (1, 4),\n",
       "   (2, 5),\n",
       "   (3, 6),\n",
       "   (4, 7),\n",
       "   (5, 8),\n",
       "   (6, 9),\n",
       "   (7, 9),\n",
       "   (8, 9),\n",
       "   (9, 9)],\n",
       "  [(0, 0),\n",
       "   (0, 1),\n",
       "   (0, 2),\n",
       "   (0, 3),\n",
       "   (1, 4),\n",
       "   (2, 5),\n",
       "   (3, 6),\n",
       "   (4, 7),\n",
       "   (5, 8),\n",
       "   (6, 9),\n",
       "   (7, 9),\n",
       "   (8, 9),\n",
       "   (9, 9)],\n",
       "  [(0, 0),\n",
       "   (0, 1),\n",
       "   (0, 2),\n",
       "   (0, 3),\n",
       "   (1, 4),\n",
       "   (2, 5),\n",
       "   (3, 6),\n",
       "   (4, 7),\n",
       "   (5, 8),\n",
       "   (6, 9),\n",
       "   (7, 9),\n",
       "   (8, 9),\n",
       "   (9, 9)],\n",
       "  [(0, 0),\n",
       "   (0, 1),\n",
       "   (0, 2),\n",
       "   (1, 3),\n",
       "   (2, 4),\n",
       "   (3, 5),\n",
       "   (4, 6),\n",
       "   (5, 7),\n",
       "   (6, 8),\n",
       "   (7, 9),\n",
       "   (8, 9),\n",
       "   (9, 9)],\n",
       "  [(0, 0),\n",
       "   (1, 1),\n",
       "   (2, 2),\n",
       "   (3, 3),\n",
       "   (4, 4),\n",
       "   (5, 5),\n",
       "   (6, 6),\n",
       "   (7, 7),\n",
       "   (8, 8),\n",
       "   (9, 9)],\n",
       "  [(0, 0),\n",
       "   (1, 1),\n",
       "   (2, 2),\n",
       "   (3, 3),\n",
       "   (4, 4),\n",
       "   (5, 5),\n",
       "   (6, 6),\n",
       "   (7, 7),\n",
       "   (8, 8),\n",
       "   (9, 9)],\n",
       "  [(0, 0),\n",
       "   (1, 1),\n",
       "   (2, 2),\n",
       "   (3, 3),\n",
       "   (4, 4),\n",
       "   (5, 5),\n",
       "   (6, 6),\n",
       "   (7, 7),\n",
       "   (8, 8),\n",
       "   (9, 9)],\n",
       "  [(0, 0),\n",
       "   (1, 1),\n",
       "   (2, 2),\n",
       "   (3, 3),\n",
       "   (4, 4),\n",
       "   (5, 5),\n",
       "   (6, 6),\n",
       "   (7, 7),\n",
       "   (8, 8),\n",
       "   (9, 9)],\n",
       "  [(0, 0),\n",
       "   (1, 1),\n",
       "   (2, 2),\n",
       "   (3, 3),\n",
       "   (4, 4),\n",
       "   (5, 5),\n",
       "   (6, 6),\n",
       "   (7, 7),\n",
       "   (8, 8),\n",
       "   (9, 9)],\n",
       "  [(0, 0),\n",
       "   (1, 1),\n",
       "   (2, 2),\n",
       "   (3, 3),\n",
       "   (4, 4),\n",
       "   (5, 5),\n",
       "   (6, 6),\n",
       "   (7, 7),\n",
       "   (8, 8),\n",
       "   (9, 9)],\n",
       "  [(0, 0),\n",
       "   (1, 1),\n",
       "   (2, 2),\n",
       "   (3, 3),\n",
       "   (4, 4),\n",
       "   (5, 5),\n",
       "   (6, 6),\n",
       "   (7, 7),\n",
       "   (8, 8),\n",
       "   (9, 9)],\n",
       "  [(0, 0),\n",
       "   (1, 1),\n",
       "   (2, 2),\n",
       "   (3, 3),\n",
       "   (4, 4),\n",
       "   (5, 5),\n",
       "   (6, 6),\n",
       "   (7, 7),\n",
       "   (8, 8),\n",
       "   (9, 9)],\n",
       "  [(0, 0),\n",
       "   (1, 1),\n",
       "   (2, 2),\n",
       "   (3, 3),\n",
       "   (4, 4),\n",
       "   (5, 5),\n",
       "   (6, 6),\n",
       "   (7, 7),\n",
       "   (8, 8),\n",
       "   (9, 9)],\n",
       "  [(0, 0),\n",
       "   (1, 1),\n",
       "   (2, 2),\n",
       "   (3, 3),\n",
       "   (4, 4),\n",
       "   (5, 5),\n",
       "   (6, 6),\n",
       "   (7, 7),\n",
       "   (8, 8),\n",
       "   (9, 9)],\n",
       "  [(0, 0),\n",
       "   (1, 1),\n",
       "   (2, 2),\n",
       "   (3, 3),\n",
       "   (4, 4),\n",
       "   (5, 5),\n",
       "   (6, 6),\n",
       "   (7, 7),\n",
       "   (8, 8),\n",
       "   (9, 9)],\n",
       "  [(0, 0),\n",
       "   (1, 1),\n",
       "   (2, 2),\n",
       "   (3, 3),\n",
       "   (4, 4),\n",
       "   (5, 5),\n",
       "   (6, 6),\n",
       "   (7, 7),\n",
       "   (8, 8),\n",
       "   (9, 9)],\n",
       "  [(0, 0),\n",
       "   (1, 1),\n",
       "   (2, 2),\n",
       "   (3, 3),\n",
       "   (4, 4),\n",
       "   (5, 5),\n",
       "   (6, 6),\n",
       "   (7, 7),\n",
       "   (8, 8),\n",
       "   (9, 9)],\n",
       "  [(0, 0),\n",
       "   (1, 1),\n",
       "   (2, 2),\n",
       "   (3, 3),\n",
       "   (4, 4),\n",
       "   (5, 5),\n",
       "   (6, 6),\n",
       "   (7, 7),\n",
       "   (8, 8),\n",
       "   (9, 9)],\n",
       "  [(0, 0),\n",
       "   (1, 1),\n",
       "   (2, 2),\n",
       "   (3, 3),\n",
       "   (4, 4),\n",
       "   (5, 5),\n",
       "   (6, 6),\n",
       "   (7, 7),\n",
       "   (8, 8),\n",
       "   (9, 9)],\n",
       "  [(0, 0),\n",
       "   (1, 1),\n",
       "   (2, 2),\n",
       "   (3, 3),\n",
       "   (4, 4),\n",
       "   (5, 5),\n",
       "   (6, 6),\n",
       "   (7, 7),\n",
       "   (8, 8),\n",
       "   (9, 9)],\n",
       "  [(0, 0),\n",
       "   (1, 1),\n",
       "   (2, 2),\n",
       "   (3, 3),\n",
       "   (4, 4),\n",
       "   (5, 5),\n",
       "   (6, 6),\n",
       "   (7, 7),\n",
       "   (8, 8),\n",
       "   (9, 9)],\n",
       "  [(0, 0),\n",
       "   (1, 1),\n",
       "   (2, 2),\n",
       "   (3, 3),\n",
       "   (4, 4),\n",
       "   (5, 5),\n",
       "   (6, 6),\n",
       "   (7, 7),\n",
       "   (8, 8),\n",
       "   (9, 9)],\n",
       "  [(0, 0),\n",
       "   (1, 1),\n",
       "   (2, 2),\n",
       "   (3, 3),\n",
       "   (4, 4),\n",
       "   (5, 5),\n",
       "   (6, 6),\n",
       "   (7, 7),\n",
       "   (8, 8),\n",
       "   (9, 9)],\n",
       "  [(0, 0),\n",
       "   (1, 1),\n",
       "   (2, 2),\n",
       "   (3, 3),\n",
       "   (4, 4),\n",
       "   (5, 5),\n",
       "   (6, 6),\n",
       "   (7, 7),\n",
       "   (8, 8),\n",
       "   (9, 9)],\n",
       "  [(0, 0),\n",
       "   (1, 1),\n",
       "   (2, 2),\n",
       "   (3, 3),\n",
       "   (4, 4),\n",
       "   (5, 5),\n",
       "   (6, 6),\n",
       "   (7, 7),\n",
       "   (8, 8),\n",
       "   (9, 9)],\n",
       "  [(0, 0),\n",
       "   (1, 1),\n",
       "   (2, 2),\n",
       "   (3, 3),\n",
       "   (4, 4),\n",
       "   (5, 5),\n",
       "   (6, 6),\n",
       "   (7, 7),\n",
       "   (8, 8),\n",
       "   (9, 9)],\n",
       "  [(0, 0),\n",
       "   (1, 1),\n",
       "   (2, 2),\n",
       "   (3, 3),\n",
       "   (4, 4),\n",
       "   (5, 5),\n",
       "   (6, 6),\n",
       "   (7, 7),\n",
       "   (8, 8),\n",
       "   (9, 9)],\n",
       "  [(0, 0),\n",
       "   (1, 1),\n",
       "   (2, 2),\n",
       "   (3, 3),\n",
       "   (4, 4),\n",
       "   (5, 5),\n",
       "   (6, 6),\n",
       "   (7, 7),\n",
       "   (8, 8),\n",
       "   (9, 9)],\n",
       "  [(0, 0),\n",
       "   (1, 1),\n",
       "   (2, 2),\n",
       "   (3, 3),\n",
       "   (4, 4),\n",
       "   (5, 5),\n",
       "   (6, 6),\n",
       "   (7, 7),\n",
       "   (8, 8),\n",
       "   (9, 9)],\n",
       "  [(0, 0),\n",
       "   (1, 1),\n",
       "   (2, 2),\n",
       "   (3, 3),\n",
       "   (4, 4),\n",
       "   (5, 5),\n",
       "   (6, 6),\n",
       "   (7, 7),\n",
       "   (8, 8),\n",
       "   (9, 9)],\n",
       "  [(0, 0),\n",
       "   (1, 1),\n",
       "   (2, 2),\n",
       "   (3, 3),\n",
       "   (4, 4),\n",
       "   (5, 5),\n",
       "   (6, 6),\n",
       "   (7, 7),\n",
       "   (8, 8),\n",
       "   (9, 9)],\n",
       "  [(0, 0),\n",
       "   (1, 1),\n",
       "   (2, 2),\n",
       "   (3, 3),\n",
       "   (4, 4),\n",
       "   (5, 5),\n",
       "   (6, 6),\n",
       "   (7, 7),\n",
       "   (8, 8),\n",
       "   (9, 9)],\n",
       "  [(0, 0),\n",
       "   (1, 1),\n",
       "   (2, 2),\n",
       "   (3, 3),\n",
       "   (4, 4),\n",
       "   (5, 5),\n",
       "   (6, 6),\n",
       "   (7, 7),\n",
       "   (8, 8),\n",
       "   (9, 9)],\n",
       "  [(0, 0),\n",
       "   (1, 1),\n",
       "   (2, 2),\n",
       "   (3, 3),\n",
       "   (4, 4),\n",
       "   (5, 5),\n",
       "   (6, 6),\n",
       "   (7, 7),\n",
       "   (8, 8),\n",
       "   (9, 9)],\n",
       "  [(0, 0),\n",
       "   (1, 1),\n",
       "   (2, 2),\n",
       "   (3, 3),\n",
       "   (4, 4),\n",
       "   (5, 5),\n",
       "   (6, 6),\n",
       "   (7, 7),\n",
       "   (8, 8),\n",
       "   (9, 9)],\n",
       "  [(0, 0),\n",
       "   (1, 1),\n",
       "   (2, 2),\n",
       "   (3, 3),\n",
       "   (4, 4),\n",
       "   (5, 5),\n",
       "   (6, 6),\n",
       "   (7, 7),\n",
       "   (8, 8),\n",
       "   (9, 9)],\n",
       "  [(0, 0),\n",
       "   (1, 1),\n",
       "   (2, 2),\n",
       "   (3, 3),\n",
       "   (4, 4),\n",
       "   (5, 5),\n",
       "   (6, 6),\n",
       "   (7, 7),\n",
       "   (8, 8),\n",
       "   (9, 9)]])"
      ]
     },
     "execution_count": 10,
     "metadata": {},
     "output_type": "execute_result"
    }
   ],
   "source": [
    "y = np.column_stack((np.arange(len(vec2)),vec2))\n",
    "x = np.column_stack((np.arange(len(vec1)),vec1))\n",
    "# distance, path = fastdtw(x, y, dist=euclidean)\n",
    "\n",
    "dist, path = dtw_offset(y[:10],x, window=10)\n",
    "\n",
    "#print(dist, path)\n",
    "#patharay = np.array(path[0])\n",
    "dist, path\n",
    "\n"
   ]
  },
  {
   "cell_type": "code",
   "execution_count": 11,
   "metadata": {},
   "outputs": [],
   "source": [
    "vect1 = np.array([0,0,0,0,1,2,3,4,3,2,1,0])\n",
    "vect2 = np.array([0,1,2,3,4,3,2,1,0,0,0,0])\n",
    "\n",
    "yY = np.column_stack((np.arange(len(vect2[:5])),vect2[:5]))\n",
    "xX = np.column_stack((np.arange(len(vect1[3:9])),vect1[3:9]))\n",
    "\n",
    "#_distance, _path = fastdtw(yY,xX, dist=euclidean)\n",
    "\n",
    "#_distance, _path"
   ]
  },
  {
   "cell_type": "code",
   "execution_count": 16,
   "metadata": {},
   "outputs": [
    {
     "data": {
      "text/plain": [
       "[<matplotlib.lines.Line2D at 0x219df6fcd10>,\n",
       " <matplotlib.lines.Line2D at 0x219df6c78d0>]"
      ]
     },
     "execution_count": 16,
     "metadata": {},
     "output_type": "execute_result"
    },
    {
     "data": {
      "image/png": "[encoded data removed]",
      "text/plain": [
       "<Figure size 640x480 with 1 Axes>"
      ]
     },
     "metadata": {},
     "output_type": "display_data"
    }
   ],
   "source": [
    "#plt.plot(dist)\n",
    "plt.plot(path[0],path[1])"
   ]
  },
  {
   "cell_type": "code",
   "execution_count": null,
   "metadata": {},
   "outputs": [],
   "source": [
    "def dtw_offset(comparitee_vector, comparitor_vector, **kwargs):\n",
    "    _window = kwargs.get('window')\n",
    "    distance = []\n",
    "    path = []\n",
    "    tee = comparitee_vector\n",
    "    tor = comparitor_vector\n",
    "    iter = len(tor)-len(tee)\n",
    "    if len(tor)<len(tee[:_window]):\n",
    "        print(\"Comparitor is shorter than comparitee, this won't do, try a shorter sequence\") \n",
    "    else:\n",
    "        for i in range(iter):\n",
    "            _distance, _path = fastdtw(tor[i:i+_window],tee[:_window], dist=euclidean)\n",
    "            distance.append(_distance)\n",
    "            path.append(_path)\n",
    "        distanceAray = np.array(distance)\n",
    "        #statAray = np.nan_to_num(statAray, nan=0.0)\n",
    "        \n",
    "        #pathAray = np.array(path)#.reshape(_window,iter)\n",
    "        #pvalueAray = np.nan_to_num(pvalueAray, nan=1)\n",
    "        #print('statArgmax= ' + str(statAray.argmax()) + ' val ' + str(statAray[statAray.argmax()]))\n",
    "        #print('pvalArgmin= ' + str(pvalueAray.argmin()) + ' val ' + str(pvalueAray[pvalueAray.argmin()]))\n",
    "        #print\n",
    "    return distanceAray, path"
   ]
  },
  {
   "cell_type": "code",
   "execution_count": 3,
   "metadata": {},
   "outputs": [
    {
     "data": {
      "image/png": "[encoded data removed]",
      "text/plain": [
       "<Figure size 1000x300 with 1 Axes>"
      ]
     },
     "metadata": {},
     "output_type": "display_data"
    }
   ],
   "source": [
    "from scipy.stats import norm \n",
    "np.random.seed(123) #initialize random seed\n",
    "size1 = 100 #size of first part (number of points)\n",
    "size2 = 150 #size of second part (number of points)\n",
    "size3 = 100 #size of third part (number of points)\n",
    "N = size1+size2+size3 #total number of points\n",
    "scale = 100 #standard deviation of distribution function across all three parts\n",
    "loc1 = 3000 #mean of normal for first part\n",
    "loc2 = 1000 #mean of normal for second part\n",
    "loc3 = 2000 #mean of normal for third part\n",
    "d1 = norm.rvs(loc=loc1,size=size1,scale=scale) #randomly generates points for first part\n",
    "d2 = norm.rvs(loc=loc2,size=size2,scale=scale) #randomly generates points for second part\n",
    "d3 = norm.rvs(loc=loc3,size=size3,scale=scale) #randomly generates points for third part\n",
    "data = np.hstack([d1,d2,d3]) #these are our final observation points\n",
    "#data\n",
    "plt.figure(figsize=(10,3))\n",
    "plt.plot(data) #let's have a look at our data\n",
    "plt.show()"
   ]
  },
  {
   "cell_type": "code",
   "execution_count": 4,
   "metadata": {},
   "outputs": [
    {
     "name": "stdout",
     "output_type": "stream",
     "text": [
      "method- full_cov, prior- const, engine- numba\n",
      "Segment length is less than dataset length, no spliting necessary\n",
      "/n"
     ]
    }
   ],
   "source": [
    "prob = cp_Tools.bayes_offline_split(cp_Tools.normalize_array(data,0,0), segment_length=351)\n"
   ]
  },
  {
   "cell_type": "code",
   "execution_count": 5,
   "metadata": {},
   "outputs": [
    {
     "data": {
      "text/plain": [
       "[<matplotlib.lines.Line2D at 0x17c38ec3130>]"
      ]
     },
     "execution_count": 5,
     "metadata": {},
     "output_type": "execute_result"
    },
    {
     "data": {
      "image/png": "[encoded data removed]",
      "text/plain": [
       "<Figure size 640x480 with 1 Axes>"
      ]
     },
     "metadata": {},
     "output_type": "display_data"
    }
   ],
   "source": [
    "plt.plot(prob)\n",
    "#plt.plot(data)"
   ]
  },
  {
   "cell_type": "code",
   "execution_count": null,
   "metadata": {},
   "outputs": [],
   "source": [
    "def bayes_offline_sdt(data, **kwargs):\n",
    "    '''Implementation of bayesian offline changepoint methods that is\n",
    "    described in Fearnhead et al 2006, Chosen for its elegant handling of\n",
    "    both univariate and multivariate data.\n",
    "    \n",
    "    Utilizing the protocols from sdt-python: \n",
    "    https://schuetzgroup.github.io/sdt-python/\n",
    "    \n",
    "    Parameters includes: \n",
    "    data: np.array - 'm x n' matrix of m datasets and n observations\n",
    "    method: str - Choices - {\"gauss\" , \"ifm\", \"full_cov\"}\n",
    "    prior: str - Choices - {\"const\", \"geometric\", \"neg_binomial\"}\n",
    "    engine: str - Choices - {'numba' or 'numpy' default is 'numba'}\n",
    "    past: int - number of datapoints that probability seach will include in analysis\n",
    "\n",
    "\n",
    "    full_output: boolean - change point list or array len(data) probabilities of a changepoint\n",
    "                            returns 4 elements, prob, Q, P, Pcp\n",
    "    \n",
    "    returns probabilities of changepoints\n",
    "    \n",
    "    References:\n",
    "    Fearnhead, Paul: “Exact and efficient Bayesian inference for multiple changepoint problems”,\n",
    "    Statistics and computing 16.2 (2006), pp. 203–21\n",
    "    \n",
    "    Adams and McKay: “Bayesian Online Changepoint Detection”, arXiv:0710.3742\n",
    "    \n",
    "    Killick et al.: “Optimal Detection of Changepoints With a Linear Computational Cost”,\n",
    "    Journal of the American Statistical Association, Informa UK Limited, 2012, 107, 1590–1598\n",
    "    '''\n",
    "    \n",
    "    #KWARGS getter \n",
    "    _method = kwargs.get('method')\n",
    "    _prior = kwargs.get('prior')\n",
    "    _engine = kwargs.get('engine')\n",
    "    _full_output = kwargs.get('full_output')\n",
    "    _thresh = kwargs.get('threshold')\n",
    "    _past = kwargs.get('past')\n",
    "    \n",
    "    \n",
    "    #Default arguments\n",
    "    if _method == None:\n",
    "        _method = \"full_cov\"\n",
    "    if _prior == None:\n",
    "        _prior = \"const\"\n",
    "    if _engine == None:\n",
    "        _engine =\"numba\"\n",
    "    if _past == None:\n",
    "        _past = 20\n",
    "    #if _full_output = True:\n",
    "    #    _full_output = False\n",
    "    #print('method- ' +_method+ ', prior- ' +_prior + ', engine- '+ _engine)#'Output- '+ _full_output +'Threshhold- '+ _thresh)\n",
    "    \n",
    "    \n",
    "    #Class init\n",
    "    detOffBay = sdt_cp.BayesOffline(_prior, _method, engine=_engine)\n",
    "    \n",
    "    #Full output \n",
    "    if _full_output==True:\n",
    "        #detOffBay = sdt_cp.BayesOffline(_prior, _method, engine=_engine)\n",
    "        prob, q, p, pcp = detOffBay.find_changepoints(data.T, full_output=True)\n",
    "        return prob, q, p, pcp\n",
    "    \n",
    "    #Threshold case output\n",
    "    elif _thresh!=None:\n",
    "        return detOffBay.find_changepoints(data.T, prob_threshold=_thresh)\n",
    "                    \n",
    "    #Everything else output\n",
    "    else:\n",
    "        #detOffBay = sdt_cp.BayesOffline(_prior, _method, engine=_engine)\n",
    "        return detOffBay.find_changepoints(data.T, truncate=-100)\n"
   ]
  },
  {
   "cell_type": "code",
   "execution_count": 6,
   "metadata": {},
   "outputs": [
    {
     "name": "stdout",
     "output_type": "stream",
     "text": [
      "2 Change points: [100 249]\n"
     ]
    },
    {
     "data": {
      "text/plain": [
       "(array([[ 0.00000000e+00,  3.00312130e+03,  2.99881695e+03,\n",
       "          1.13318145e+02,  5.43449465e-02,  3.00045839e+03],\n",
       "        [ 1.00000000e+02,  9.94962377e+02,  9.99369275e+02,\n",
       "          9.34896410e+01, -2.08355678e-01,  1.01017234e+03],\n",
       "        [ 2.49000000e+02,  1.99439273e+03,  1.98760569e+03,\n",
       "          9.71382093e+01, -1.58832735e-01,  2.00225495e+03]]),\n",
       " array([  0., 100., 249.]))"
      ]
     },
     "execution_count": 6,
     "metadata": {},
     "output_type": "execute_result"
    }
   ],
   "source": [
    "from scipy.stats import linregress\n",
    "\n",
    "# def linearM(data, **kwargs):\n",
    "\n",
    "\n",
    "#     #data = np.array(data)\n",
    "#     mb = linregress(np.arange(len(data)), data)\n",
    "#     return mb[0] \n",
    "\n",
    "# def linearB(data, **kwargs):\n",
    "#     #data= np.array(data)\n",
    "#     mb = linregress(np.arange(len(data)), data)\n",
    "#     return mb[1] \n",
    "\n",
    "#stat_func = [np.mean, np.median, np.std, linearM, linearB]\n",
    "\n",
    "#stats = sdt.changepoint.segment_stats(data, cp_Tools.find_prob_peaks(cpts, height=.1), stat_func, mask=None, stat_margin=10, return_len='segments')\n",
    "\n",
    "#stats = np.hstack((np.zeros(len(stats[0])).reshape(3,1), stats[1]))\n",
    "\n",
    "stats, bkps = cp_Comp.changepoint_stat(data, prob, height=0.1)\n",
    "\n",
    "stats, bkps\n",
    "\n",
    "#compArray = bkps.reshape(3,1),stats\n",
    "\n",
    "#compArray\n"
   ]
  },
  {
   "cell_type": "code",
   "execution_count": 11,
   "metadata": {},
   "outputs": [],
   "source": [
    "def combine_vector_and_matrix(vector, matrix, column):\n",
    "    # Check if the column value is valid\n",
    "    #if column < 0 or column > matrix.shape[1]:\n",
    "    #    raise ValueError(\"Invalid column value\")\n",
    "\n",
    "    # Calculate the dimensions of the new matrix\n",
    "    num_rows = matrix.shape[0] + 1\n",
    "    num_cols = max(matrix.shape[1], column + len(vector))\n",
    "\n",
    "    # Create a new matrix with the desired dimensions, filled with zeros\n",
    "    combined_matrix = np.zeros((num_rows, num_cols))\n",
    "\n",
    "    # Copy the original matrix to the new matrix\n",
    "    combined_matrix[:-1, :matrix.shape[1]] = matrix\n",
    "\n",
    "    # Copy the vector to the new matrix\n",
    "    combined_matrix[-1, column:column + len(vector)] = vector\n",
    "\n",
    "    return combined_matrix"
   ]
  },
  {
   "cell_type": "code",
   "execution_count": 12,
   "metadata": {},
   "outputs": [
    {
     "data": {
      "text/plain": [
       "array([[ 6.,  7.,  8.,  9., 10.,  0.,  0.,  0.,  0.,  0.,  0.,  0.,  0.,\n",
       "         0.,  0.],\n",
       "       [11., 12., 23., 24., 15.,  0.,  0.,  0.,  0.,  0.,  0.,  0.,  0.,\n",
       "         0.,  0.],\n",
       "       [ 0.,  0.,  0.,  0.,  0.,  0.,  0.,  0.,  0.,  0.,  1.,  2.,  3.,\n",
       "         4.,  5.]])"
      ]
     },
     "execution_count": 12,
     "metadata": {},
     "output_type": "execute_result"
    }
   ],
   "source": [
    "vector = np.array([1,2,3,4,5])\n",
    "matrix = np.array(([6,7,8,9,10],[11,12,23,24,15]))\n",
    "column = 10\n",
    "\n",
    "combine_vector_and_matrix(vector, matrix, column)\n"
   ]
  },
  {
   "cell_type": "code",
   "execution_count": 1,
   "metadata": {},
   "outputs": [
    {
     "name": "stdout",
     "output_type": "stream",
     "text": [
      "No module named 'osgeo'\n"
     ]
    }
   ],
   "source": [
    "import gempy as gp\n",
    "import numpy as np"
   ]
  },
  {
   "cell_type": "code",
   "execution_count": 5,
   "metadata": {},
   "outputs": [
    {
     "ename": "IndexError",
     "evalue": "invalid index to scalar variable.",
     "output_type": "error",
     "traceback": [
      "\u001b[1;31m---------------------------------------------------------------------------\u001b[0m",
      "\u001b[1;31mIndexError\u001b[0m                                Traceback (most recent call last)",
      "Cell \u001b[1;32mIn[5], line 1\u001b[0m\n\u001b[1;32m----> 1\u001b[0m geo_model \u001b[38;5;241m=\u001b[39m \u001b[43mgp\u001b[49m\u001b[38;5;241;43m.\u001b[39;49m\u001b[43mcreate_model\u001b[49m\u001b[43m(\u001b[49m\u001b[38;5;124;43m'\u001b[39;49m\u001b[38;5;124;43msyn_graben\u001b[39;49m\u001b[38;5;124;43m'\u001b[39;49m\u001b[43m)\u001b[49m\n",
      "File \u001b[1;32m~\\.conda\\envs\\sdt\\lib\\site-packages\\gempy\\gempy_api.py:114\u001b[0m, in \u001b[0;36mcreate_model\u001b[1;34m(project_name)\u001b[0m\n\u001b[0;32m     99\u001b[0m \u001b[38;5;28;01mdef\u001b[39;00m \u001b[38;5;21mcreate_model\u001b[39m(project_name\u001b[38;5;241m=\u001b[39m\u001b[38;5;124m'\u001b[39m\u001b[38;5;124mdefault_project\u001b[39m\u001b[38;5;124m'\u001b[39m) \u001b[38;5;241m-\u001b[39m\u001b[38;5;241m>\u001b[39m Project:\n\u001b[0;32m    100\u001b[0m \u001b[38;5;250m    \u001b[39m\u001b[38;5;124;03m\"\"\"Create a Project object.\u001b[39;00m\n\u001b[0;32m    101\u001b[0m \n\u001b[0;32m    102\u001b[0m \u001b[38;5;124;03m    Args:\u001b[39;00m\n\u001b[1;32m   (...)\u001b[0m\n\u001b[0;32m    112\u001b[0m \u001b[38;5;124;03m        TODO: Adding saving address\u001b[39;00m\n\u001b[0;32m    113\u001b[0m \u001b[38;5;124;03m    \"\"\"\u001b[39;00m\n\u001b[1;32m--> 114\u001b[0m     \u001b[38;5;28;01mreturn\u001b[39;00m \u001b[43mProject\u001b[49m\u001b[43m(\u001b[49m\u001b[43mproject_name\u001b[49m\u001b[43m)\u001b[49m\n",
      "File \u001b[1;32m~\\.conda\\envs\\sdt\\lib\\site-packages\\gempy\\core\\model.py:1628\u001b[0m, in \u001b[0;36mProject.__init__\u001b[1;34m(self, project_name)\u001b[0m\n\u001b[0;32m   1625\u001b[0m \u001b[38;5;28;01mdef\u001b[39;00m \u001b[38;5;21m__init__\u001b[39m(\u001b[38;5;28mself\u001b[39m, project_name\u001b[38;5;241m=\u001b[39m\u001b[38;5;124m'\u001b[39m\u001b[38;5;124mdefault_project\u001b[39m\u001b[38;5;124m'\u001b[39m):\n\u001b[0;32m   1627\u001b[0m     \u001b[38;5;28mself\u001b[39m\u001b[38;5;241m.\u001b[39mmeta \u001b[38;5;241m=\u001b[39m MetaData(project_name\u001b[38;5;241m=\u001b[39mproject_name)\n\u001b[1;32m-> 1628\u001b[0m     \u001b[38;5;28;43msuper\u001b[39;49m\u001b[43m(\u001b[49m\u001b[43m)\u001b[49m\u001b[38;5;241;43m.\u001b[39;49m\u001b[38;5;21;43m__init__\u001b[39;49m\u001b[43m(\u001b[49m\u001b[43m)\u001b[49m\n",
      "File \u001b[1;32m~\\.conda\\envs\\sdt\\lib\\site-packages\\gempy\\core\\model.py:85\u001b[0m, in \u001b[0;36mImplicitCoKriging.__init__\u001b[1;34m(self)\u001b[0m\n\u001b[0;32m     78\u001b[0m \u001b[38;5;28mself\u001b[39m\u001b[38;5;241m.\u001b[39m_rescaling \u001b[38;5;241m=\u001b[39m ScalingSystem(\u001b[38;5;28mself\u001b[39m\u001b[38;5;241m.\u001b[39m_surface_points, \u001b[38;5;28mself\u001b[39m\u001b[38;5;241m.\u001b[39m_orientations,\n\u001b[0;32m     79\u001b[0m                                 \u001b[38;5;28mself\u001b[39m\u001b[38;5;241m.\u001b[39m_grid)\n\u001b[0;32m     80\u001b[0m \u001b[38;5;28mself\u001b[39m\u001b[38;5;241m.\u001b[39m_additional_data \u001b[38;5;241m=\u001b[39m AdditionalData(\u001b[38;5;28mself\u001b[39m\u001b[38;5;241m.\u001b[39m_surface_points,\n\u001b[0;32m     81\u001b[0m                                        \u001b[38;5;28mself\u001b[39m\u001b[38;5;241m.\u001b[39m_orientations, \u001b[38;5;28mself\u001b[39m\u001b[38;5;241m.\u001b[39m_grid,\n\u001b[0;32m     82\u001b[0m                                        \u001b[38;5;28mself\u001b[39m\u001b[38;5;241m.\u001b[39m_faults,\n\u001b[0;32m     83\u001b[0m                                        \u001b[38;5;28mself\u001b[39m\u001b[38;5;241m.\u001b[39m_surfaces, \u001b[38;5;28mself\u001b[39m\u001b[38;5;241m.\u001b[39m_rescaling)\n\u001b[1;32m---> 85\u001b[0m \u001b[38;5;28mself\u001b[39m\u001b[38;5;241m.\u001b[39m_interpolator \u001b[38;5;241m=\u001b[39m \u001b[43mInterpolatorModel\u001b[49m\u001b[43m(\u001b[49m\u001b[38;5;28;43mself\u001b[39;49m\u001b[38;5;241;43m.\u001b[39;49m\u001b[43m_surface_points\u001b[49m\u001b[43m,\u001b[49m\n\u001b[0;32m     86\u001b[0m \u001b[43m                                       \u001b[49m\u001b[38;5;28;43mself\u001b[39;49m\u001b[38;5;241;43m.\u001b[39;49m\u001b[43m_orientations\u001b[49m\u001b[43m,\u001b[49m\u001b[43m \u001b[49m\u001b[38;5;28;43mself\u001b[39;49m\u001b[38;5;241;43m.\u001b[39;49m\u001b[43m_grid\u001b[49m\u001b[43m,\u001b[49m\n\u001b[0;32m     87\u001b[0m \u001b[43m                                       \u001b[49m\u001b[38;5;28;43mself\u001b[39;49m\u001b[38;5;241;43m.\u001b[39;49m\u001b[43m_surfaces\u001b[49m\u001b[43m,\u001b[49m\n\u001b[0;32m     88\u001b[0m \u001b[43m                                       \u001b[49m\u001b[38;5;28;43mself\u001b[39;49m\u001b[38;5;241;43m.\u001b[39;49m\u001b[43m_stack\u001b[49m\u001b[43m,\u001b[49m\u001b[43m \u001b[49m\u001b[38;5;28;43mself\u001b[39;49m\u001b[38;5;241;43m.\u001b[39;49m\u001b[43m_faults\u001b[49m\u001b[43m,\u001b[49m\n\u001b[0;32m     89\u001b[0m \u001b[43m                                       \u001b[49m\u001b[38;5;28;43mself\u001b[39;49m\u001b[38;5;241;43m.\u001b[39;49m\u001b[43m_additional_data\u001b[49m\u001b[43m)\u001b[49m\n\u001b[0;32m     91\u001b[0m \u001b[38;5;28mself\u001b[39m\u001b[38;5;241m.\u001b[39msolutions \u001b[38;5;241m=\u001b[39m Solution(\u001b[38;5;28mself\u001b[39m\u001b[38;5;241m.\u001b[39m_grid, \u001b[38;5;28mself\u001b[39m\u001b[38;5;241m.\u001b[39m_surfaces, \u001b[38;5;28mself\u001b[39m\u001b[38;5;241m.\u001b[39m_stack)\n\u001b[0;32m     93\u001b[0m \u001b[38;5;66;03m# Previous values of sfai.\u001b[39;00m\n",
      "File \u001b[1;32m~\\.conda\\envs\\sdt\\lib\\site-packages\\gempy\\core\\interpolator.py:650\u001b[0m, in \u001b[0;36mInterpolatorModel.__init__\u001b[1;34m(self, surface_points, orientations, grid, surfaces, series, faults, additional_data, **kwargs)\u001b[0m\n\u001b[0;32m    646\u001b[0m \u001b[38;5;28;01mdef\u001b[39;00m \u001b[38;5;21m__init__\u001b[39m(\u001b[38;5;28mself\u001b[39m, surface_points: \u001b[38;5;124m\"\u001b[39m\u001b[38;5;124mSurfacePoints\u001b[39m\u001b[38;5;124m\"\u001b[39m, orientations: \u001b[38;5;124m\"\u001b[39m\u001b[38;5;124mOrientations\u001b[39m\u001b[38;5;124m\"\u001b[39m, grid: \u001b[38;5;124m\"\u001b[39m\u001b[38;5;124mGrid\u001b[39m\u001b[38;5;124m\"\u001b[39m,\n\u001b[0;32m    647\u001b[0m              surfaces: \u001b[38;5;124m\"\u001b[39m\u001b[38;5;124mSurfaces\u001b[39m\u001b[38;5;124m\"\u001b[39m, series, faults: \u001b[38;5;124m\"\u001b[39m\u001b[38;5;124mFaults\u001b[39m\u001b[38;5;124m\"\u001b[39m, additional_data: \u001b[38;5;124m\"\u001b[39m\u001b[38;5;124mAdditionalData\u001b[39m\u001b[38;5;124m\"\u001b[39m,\n\u001b[0;32m    648\u001b[0m              \u001b[38;5;241m*\u001b[39m\u001b[38;5;241m*\u001b[39mkwargs):\n\u001b[1;32m--> 650\u001b[0m     \u001b[38;5;28msuper\u001b[39m()\u001b[38;5;241m.\u001b[39m\u001b[38;5;21m__init__\u001b[39m(surface_points, orientations, grid, surfaces, series, faults,\n\u001b[0;32m    651\u001b[0m                      additional_data, \u001b[38;5;241m*\u001b[39m\u001b[38;5;241m*\u001b[39mkwargs)\n\u001b[0;32m    652\u001b[0m     \u001b[38;5;28mself\u001b[39m\u001b[38;5;241m.\u001b[39mlen_series_i \u001b[38;5;241m=\u001b[39m np\u001b[38;5;241m.\u001b[39mzeros(\u001b[38;5;241m1\u001b[39m)\n\u001b[0;32m    653\u001b[0m     \u001b[38;5;28mself\u001b[39m\u001b[38;5;241m.\u001b[39mlen_series_o \u001b[38;5;241m=\u001b[39m np\u001b[38;5;241m.\u001b[39mzeros(\u001b[38;5;241m1\u001b[39m)\n",
      "File \u001b[1;32m~\\.conda\\envs\\sdt\\lib\\site-packages\\gempy\\core\\interpolator.py:66\u001b[0m, in \u001b[0;36mInterpolator.__init__\u001b[1;34m(self, surface_points, orientations, grid, surfaces, series, faults, additional_data, **kwargs)\u001b[0m\n\u001b[0;32m     63\u001b[0m \u001b[38;5;28mself\u001b[39m\u001b[38;5;241m.\u001b[39maesara_graph \u001b[38;5;241m=\u001b[39m \u001b[38;5;28mself\u001b[39m\u001b[38;5;241m.\u001b[39mcreate_aesara_graph(additional_data, inplace\u001b[38;5;241m=\u001b[39m\u001b[38;5;28;01mFalse\u001b[39;00m)\n\u001b[0;32m     64\u001b[0m \u001b[38;5;28mself\u001b[39m\u001b[38;5;241m.\u001b[39maesara_function \u001b[38;5;241m=\u001b[39m \u001b[38;5;28;01mNone\u001b[39;00m\n\u001b[1;32m---> 66\u001b[0m \u001b[38;5;28;43mself\u001b[39;49m\u001b[38;5;241;43m.\u001b[39;49m\u001b[43m_compute_len_series\u001b[49m\u001b[43m(\u001b[49m\u001b[43m)\u001b[49m\n",
      "File \u001b[1;32m~\\.conda\\envs\\sdt\\lib\\site-packages\\gempy\\core\\interpolator.py:822\u001b[0m, in \u001b[0;36mInterpolatorModel._compute_len_series\u001b[1;34m(self)\u001b[0m\n\u001b[0;32m    817\u001b[0m \u001b[38;5;28mself\u001b[39m\u001b[38;5;241m.\u001b[39mlen_series_f \u001b[38;5;241m=\u001b[39m np\u001b[38;5;241m.\u001b[39matleast_1d(len_series_f_\u001b[38;5;241m.\u001b[39mastype(\n\u001b[0;32m    818\u001b[0m     \u001b[38;5;124m'\u001b[39m\u001b[38;5;124mint32\u001b[39m\u001b[38;5;124m'\u001b[39m))  \u001b[38;5;66;03m# [:self.additional_data.get_additional_data()['values']['Structure', 'number series']]\u001b[39;00m\n\u001b[0;32m    820\u001b[0m \u001b[38;5;28mself\u001b[39m\u001b[38;5;241m.\u001b[39m_old_len_series \u001b[38;5;241m=\u001b[39m \u001b[38;5;28mself\u001b[39m\u001b[38;5;241m.\u001b[39mlen_series_i\n\u001b[1;32m--> 822\u001b[0m \u001b[38;5;28mself\u001b[39m\u001b[38;5;241m.\u001b[39mlen_series_i \u001b[38;5;241m=\u001b[39m \u001b[38;5;28;43mself\u001b[39;49m\u001b[38;5;241;43m.\u001b[39;49m\u001b[43mlen_series_i\u001b[49m\u001b[43m[\u001b[49m\u001b[43mnon_zero\u001b[49m\u001b[43m]\u001b[49m\n\u001b[0;32m    823\u001b[0m \u001b[38;5;28mself\u001b[39m\u001b[38;5;241m.\u001b[39mlen_series_o \u001b[38;5;241m=\u001b[39m \u001b[38;5;28mself\u001b[39m\u001b[38;5;241m.\u001b[39mlen_series_o[non_zero]\n\u001b[0;32m    824\u001b[0m \u001b[38;5;66;03m# self.len_series_f = self.len_series_f[non_zero]\u001b[39;00m\n",
      "\u001b[1;31mIndexError\u001b[0m: invalid index to scalar variable."
     ]
    }
   ],
   "source": [
    "geo_model = gp.create_model('syn_graben')"
   ]
  },
  {
   "cell_type": "code",
   "execution_count": null,
   "metadata": {},
   "outputs": [],
   "source": []
  }
 ],
 "metadata": {
  "kernelspec": {
   "display_name": "Python 3 (ipykernel)",
   "language": "python",
   "name": "python3"
  },
  "language_info": {
   "codemirror_mode": {
    "name": "ipython",
    "version": 3
   },
   "file_extension": ".py",
   "mimetype": "text/x-python",
   "name": "python",
   "nbconvert_exporter": "python",
   "pygments_lexer": "ipython3",
   "version": "3.10.11"
  },
  "vscode": {
   "interpreter": {
    "hash": "0164fd5e79a90446a4aa4bfafbd40672285d5d0abee4b6302adbea1ce524d749"
   }
  }
 },
 "nbformat": 4,
 "nbformat_minor": 2
}
