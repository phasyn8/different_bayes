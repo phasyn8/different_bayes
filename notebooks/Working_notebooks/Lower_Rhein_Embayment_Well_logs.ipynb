{
 "cells": [
  {
   "cell_type": "code",
   "execution_count": 1,
   "metadata": {},
   "outputs": [],
   "source": [
    "import welly\n",
    "import numpy as np\n",
    "import pandas as pd\n",
    "import matplotlib.pyplot as plt\n",
    "\n",
    "import geopandas as gpd"
   ]
  },
  {
   "cell_type": "markdown",
   "metadata": {},
   "source": [
    "#### Well logs in the Münsterland and lower rhein embayment region of Germany.\n",
    "\n",
    "List of wells Longest to shortest Measured depth are:\n",
    "\n",
    "munst1 = Münsterland-1 \n",
    "\n",
    "darf1 = Darfeld-1\n",
    "\n",
    "bSteinfur1 = Burgsteinfurt-1\n",
    "\n",
    "bHorst1 = Borghorst-1\n",
    "\n",
    "vMold1 = Versmold-1\n",
    "\n",
    "hast1 = HASTENRATH -1\n",
    "\n",
    "hast2 = HASTENRATH -2\n",
    "\n",
    "rwth1  = RWTH-1  \n",
    "\n",
    "Mol - GT - 01 #Not yet included:\n",
    "\n",
    "Californie - GT"
   ]
  },
  {
   "cell_type": "code",
   "execution_count": 3,
   "metadata": {},
   "outputs": [],
   "source": [
    "path = 'C:\\\\Users\\\\ada55080\\\\well_data\\\\'"
   ]
  },
  {
   "cell_type": "code",
   "execution_count": 4,
   "metadata": {},
   "outputs": [],
   "source": [
    "#read the LAS files \n",
    "\n",
    "#Münsterland\n",
    "munst1 = welly.Well.from_las(path + 'Muensterland_1\\\\18018_Muensterland-1.las')\n",
    "darf1 = welly.Well.from_las(path + 'Darfeld_1\\\\17943_phy_Darfeld-1_SP_RES.las')\n",
    "bsteinfur1 = welly.Well.from_las(path + 'Burgsteinfurt_1\\\\12453_phy_Burgsteinfurt-1_CALI_SP_SN_LN_LAT_RES_SPN.las')\n",
    "bhorst1 = welly.Well.from_las(path + 'Borghorst_1\\\\12646_phy_Borghorst-1_SN_LN_LAT_RES_SP.las')\n",
    "vmold1 = welly.Well.from_las(path + 'Versmold_1\\\\33579_phy_GE-1124_Versmold1_Composite.las')\n",
    "\n",
    "#The Netherlands\n",
    "calie = welly.Well.from_las(path + 'californie-GT-02\\\\5673_calgt02_2012_comp.las')\n",
    "\n",
    "# loosely Georeferenced Aachen Area\n",
    "rwth1 = welly.Well.from_las(path + 'RWTH1W1\\\\results_23_8_05.las') \n",
    "hast1 = welly.Well.from_las(path + 'HAST\\\\314532 HAST 1.las')\n",
    "hast2 = welly.Well.from_las(path + 'HAST\\\\331686_HAST 2.las')"
   ]
  },
  {
   "cell_type": "code",
   "execution_count": 41,
   "metadata": {},
   "outputs": [
    {
     "data": {
      "text/plain": [
       "5848230.142535809"
      ]
     },
     "execution_count": 41,
     "metadata": {},
     "output_type": "execute_result"
    }
   ],
   "source": [
    "\n",
    "caliX = (303075.42-292940.4123)\n",
    "\n",
    "#\n",
    "\n",
    "caliX = 6.08350*((303075.42-292940.4123)/(6.293797-6.078583178011505))\n",
    "caliY = 51.48896*((5629294.00-5629218.74)/(50.78933-50.778202131799475))+5500000\n",
    "#caliY = 51.48896*((303075.42-292940.4123)/(6.293797-6.078583178011505))\n",
    "caliY"
   ]
  },
  {
   "cell_type": "code",
   "execution_count": 42,
   "metadata": {},
   "outputs": [],
   "source": [
    "#Adding missing location data\n",
    "\n",
    "hast1.name = 'hast1'\n",
    "hast1.location.x = 303075.42\n",
    "hast1.location.y = 5629294.00\n",
    "hast1.location.latitude = 50.789331#° N\n",
    "hast1.location.longitude = 6.293797#° E\n",
    "hast1.location.datum = 'WGS 84'\n",
    "\n",
    "hast2.name = 'hast2'\n",
    "hast2.location.x = 303075.42\n",
    "hast2.location.y = 5629294.00\n",
    "hast2.location.latitude = 50.789331#° N\n",
    "hast2.location.longitude = 6.293797#° E\n",
    "hast2.location.datum = 'WGS 84'\n",
    "\n",
    "calie.name = 'caliefornie-GT-02'\n",
    "calie.location.x = caliX\n",
    "calie.location.y = caliY\n",
    "calie.location.latitude = 51.48896#° N\n",
    "calie.location.longitude = 6.08350#° E\n",
    "calie.location.datum = 'WGS 84'\n",
    "\n",
    "rwth1.location.x = 292940.4123\n",
    "rwth1.location.y = 5629218.74\n",
    "rwth1.location.latitude = 50.778202131799475#° N\n",
    "rwth1.location.longitude = 6.078583178011505#° E\n",
    "rwth1.location.datum = 'WGS 84'"
   ]
  },
  {
   "cell_type": "code",
   "execution_count": 43,
   "metadata": {},
   "outputs": [
    {
     "data": {
      "text/plain": [
       "(Well(uwi: '33579', name: 'Versmold 1', 6 curves: ['BS', 'CALI', 'GR', 'LITHO', 'SL3', 'MDSS']),\n",
       " Well(uwi: '', name: 'BORGHORST 1', 9 curves: ['DEPT:2', 'BS', 'MNOR', 'MINV', 'SN', 'LN', 'LAT', 'RES', 'SP']),\n",
       " Well(uwi: '', name: 'BURGSTEINFURT 1', 10 curves: ['DEPT:2', 'BS', 'CALI', 'SP', 'LL7', 'SN', 'LN', 'LAT', 'RES', 'SPN']),\n",
       " Well(uwi: '', name: 'DARFELD 1', 3 curves: ['DEPT:2', 'SP', 'RES']),\n",
       " Well(uwi: '', name: 'MUENSTERLAND 1', 13 curves: ['DEPT:2', 'BS', 'CALI', 'DT', 'DTDS', 'DTF', 'GR', 'RKRL', 'RLLC', 'RL18', 'RN16', 'RN64', 'SP']),\n",
       " Well(uwi: '', name: '', 11 curves: ['SGRRAW', 'SGR', 'SGRRAW_COR', 'SGR_COR', '232TH', '238U', '40K', 'GRRAW', 'GR', 'GRRAW_COR', 'GR_COR']),\n",
       " Well(uwi: '', name: '', 23 curves: ['TEMP', 'TILT', 'TVD', 'GR', 'GR_COR', 'GRRAW', 'GRRAW_COR', 'NORTHING', 'SAL', 'SGR', 'SGR_COR', 'SGRRAW', 'SGRRAW_COR', 'SUSZ', 'CLOSUREANG', 'CLOSUREDIS', 'EASTING', 'FEL', '232TH', '238U', '40K', 'AZIMUTH', 'CAL3']),\n",
       " Well(uwi: '', name: 'RWTH 1', 8 curves: ['GR', 'BIT', 'CAL', 'DTCQI', 'DTSQI', 'DTCM', 'DTSM', 'DTSD']))"
      ]
     },
     "execution_count": 43,
     "metadata": {},
     "output_type": "execute_result"
    }
   ],
   "source": [
    "#Checks that the LAS are read\n",
    "vmold1, bhorst1, bsteinfur1, darf1, munst1, hast1, hast2, rwth1"
   ]
  },
  {
   "cell_type": "code",
   "execution_count": 44,
   "metadata": {},
   "outputs": [],
   "source": [
    "_wells = [vmold1, bhorst1, bsteinfur1, darf1, munst1, rwth1, hast1, hast2, calie]"
   ]
  },
  {
   "cell_type": "code",
   "execution_count": 45,
   "metadata": {},
   "outputs": [
    {
     "name": "stdout",
     "output_type": "stream",
     "text": [
      "Location({'position': None, 'crs': CRS({}), 'latitude': 51.970168249872, 'longitude': 8.10680075009664, 'x': 438641.23, 'y': 5758096.99, 'datum': 'WGS 84', 'township': 'Sassenberg/ Dackmar, Flur 3, Flurstuck 163', 'td': None, 'deviation': None})\n",
      "Location({'position': None, 'crs': CRS({}), 'location': '', 'country': 'BRD', 'state': '', 'county': '', 'latitude': 5777445, 'longitude': 2600380, 'x': 394910.68, 'y': 5775672.32, 'datum': '', 'api': 462008600101.0, 'td': None, 'deviation': None})\n",
      "Location({'position': None, 'crs': CRS({}), 'location': '', 'country': 'BRD', 'state': '', 'county': '', 'latitude': 5782150, 'longitude': 2595695, 'x': 390425.93, 'y': 5780565.18, 'datum': '', 'api': 462011700101.0, 'td': None, 'deviation': None})\n",
      "Location({'position': None, 'crs': CRS({}), 'location': '', 'country': 'BRD', 'state': '', 'county': '', 'latitude': 5769500, 'longitude': 2589130, 'x': 383346.04, 'y': 5768201.56, 'datum': '', 'api': 462014500101.0, 'td': None, 'deviation': None})\n",
      "Location({'position': None, 'crs': CRS({}), 'location': '', 'country': 'GERMANY', 'state': '', 'county': '', 'latitude': '', 'longitude': '', 'x': 386176.36, 'y': 5763283.15, 'datum': '', 'api': 462056900101.0, 'td': None, 'deviation': None})\n",
      "Location({'position': None, 'crs': CRS({}), 'location': '', 'province': '', 'td': None, 'deviation': None, 'x': 292940.4123, 'y': 5629218.74, 'latitude': 50.778202131799475, 'longitude': 6.078583178011505, 'datum': 'WGS 84'})\n",
      "Location({'position': None, 'crs': CRS({}), 'location': '', 'country': '', 'state': '', 'county': '', 'api': '', 'td': None, 'deviation': None, 'x': 303075.42, 'y': 5629294.0, 'latitude': 50.789331, 'longitude': 6.293797, 'datum': 'WGS 84'})\n",
      "Location({'position': None, 'crs': CRS({}), 'location': '', 'country': '', 'state': '', 'county': '', 'api': '', 'td': None, 'deviation': None, 'x': 303075.42, 'y': 5629294.0, 'latitude': 50.789331, 'longitude': 6.293797, 'datum': 'WGS 84'})\n",
      "Location({'position': None, 'crs': CRS({}), 'location': 'Californie Wijnen', 'province': 1, 'county': 'Drillmec HH300', 'latitude': 51.48896, 'longitude': 6.0835, 'x': 286488.65938659804, 'y': 5848230.142535809, 'datum': 'WGS 84', 'township': '36.98 deg', 'td': None, 'deviation': None})\n"
     ]
    },
    {
     "data": {
      "text/plain": [
       "([8.10680075009664,\n",
       "  2600380,\n",
       "  2595695,\n",
       "  2589130,\n",
       "  '',\n",
       "  6.078583178011505,\n",
       "  6.293797,\n",
       "  6.293797,\n",
       "  6.0835],\n",
       " [51.970168249872,\n",
       "  5777445,\n",
       "  5782150,\n",
       "  5769500,\n",
       "  '',\n",
       "  50.778202131799475,\n",
       "  50.789331,\n",
       "  50.789331,\n",
       "  51.48896],\n",
       " [438641.23,\n",
       "  394910.68,\n",
       "  390425.93,\n",
       "  383346.04,\n",
       "  386176.36,\n",
       "  292940.4123,\n",
       "  303075.42,\n",
       "  303075.42,\n",
       "  286488.65938659804],\n",
       " [5758096.99,\n",
       "  5775672.32,\n",
       "  5780565.18,\n",
       "  5768201.56,\n",
       "  5763283.15,\n",
       "  5629218.74,\n",
       "  5629294.0,\n",
       "  5629294.0,\n",
       "  5848230.142535809])"
      ]
     },
     "execution_count": 45,
     "metadata": {},
     "output_type": "execute_result"
    }
   ],
   "source": [
    "# building lists of well inputs\n",
    "\n",
    "cols = {'well': _wells}\n",
    "#loc_df = pd.DataFrame(cols)\n",
    "_lat = []\n",
    "_long = []\n",
    "_x = []\n",
    "_y = []\n",
    "_wellnames = []\n",
    "for i in range(len(_wells)):#, range(len(_wells))):\n",
    "    _wellnames.append(_wells[i].name)\n",
    "    _lat.append(_wells[i].location.latitude)\n",
    "    _long.append(_wells[i].location.longitude)\n",
    "    _x.append(_wells[i].location.x)\n",
    "    _y.append(_wells[i].location.y)\n",
    "\n",
    "for well in _wells:\n",
    "    print(well.location)\n",
    "\n",
    "_long, _lat, _x , _y"
   ]
  },
  {
   "cell_type": "code",
   "execution_count": 46,
   "metadata": {},
   "outputs": [
    {
     "data": {
      "text/html": [
       "<div>\n",
       "<style scoped>\n",
       "    .dataframe tbody tr th:only-of-type {\n",
       "        vertical-align: middle;\n",
       "    }\n",
       "\n",
       "    .dataframe tbody tr th {\n",
       "        vertical-align: top;\n",
       "    }\n",
       "\n",
       "    .dataframe thead th {\n",
       "        text-align: right;\n",
       "    }\n",
       "</style>\n",
       "<table border=\"1\" class=\"dataframe\">\n",
       "  <thead>\n",
       "    <tr style=\"text-align: right;\">\n",
       "      <th></th>\n",
       "      <th>well</th>\n",
       "      <th>lat</th>\n",
       "      <th>long</th>\n",
       "      <th>geometry</th>\n",
       "    </tr>\n",
       "  </thead>\n",
       "  <tbody>\n",
       "    <tr>\n",
       "      <th>0</th>\n",
       "      <td>Versmold 1</td>\n",
       "      <td>51.9701682499</td>\n",
       "      <td>8.1068007501</td>\n",
       "      <td>POINT (438641.230 5758096.990)</td>\n",
       "    </tr>\n",
       "    <tr>\n",
       "      <th>1</th>\n",
       "      <td>BORGHORST 1</td>\n",
       "      <td>5777445</td>\n",
       "      <td>2600380</td>\n",
       "      <td>POINT (394910.680 5775672.320)</td>\n",
       "    </tr>\n",
       "    <tr>\n",
       "      <th>2</th>\n",
       "      <td>BURGSTEINFURT 1</td>\n",
       "      <td>5782150</td>\n",
       "      <td>2595695</td>\n",
       "      <td>POINT (390425.930 5780565.180)</td>\n",
       "    </tr>\n",
       "    <tr>\n",
       "      <th>3</th>\n",
       "      <td>DARFELD 1</td>\n",
       "      <td>5769500</td>\n",
       "      <td>2589130</td>\n",
       "      <td>POINT (383346.040 5768201.560)</td>\n",
       "    </tr>\n",
       "    <tr>\n",
       "      <th>4</th>\n",
       "      <td>MUENSTERLAND 1</td>\n",
       "      <td></td>\n",
       "      <td></td>\n",
       "      <td>POINT (386176.360 5763283.150)</td>\n",
       "    </tr>\n",
       "    <tr>\n",
       "      <th>5</th>\n",
       "      <td>RWTH 1</td>\n",
       "      <td>50.7782021318</td>\n",
       "      <td>6.078583178</td>\n",
       "      <td>POINT (292940.412 5629218.740)</td>\n",
       "    </tr>\n",
       "    <tr>\n",
       "      <th>6</th>\n",
       "      <td></td>\n",
       "      <td>50.789331</td>\n",
       "      <td>6.293797</td>\n",
       "      <td>POINT (303075.420 5629294.000)</td>\n",
       "    </tr>\n",
       "    <tr>\n",
       "      <th>7</th>\n",
       "      <td></td>\n",
       "      <td>50.789331</td>\n",
       "      <td>6.293797</td>\n",
       "      <td>POINT (303075.420 5629294.000)</td>\n",
       "    </tr>\n",
       "    <tr>\n",
       "      <th>8</th>\n",
       "      <td>CAL-GT-02</td>\n",
       "      <td>51.48896</td>\n",
       "      <td>6.0835</td>\n",
       "      <td>POINT (286488.659 5848230.143)</td>\n",
       "    </tr>\n",
       "  </tbody>\n",
       "</table>\n",
       "</div>"
      ],
      "text/plain": [
       "              well            lat          long  \\\n",
       "0       Versmold 1  51.9701682499  8.1068007501   \n",
       "1      BORGHORST 1        5777445       2600380   \n",
       "2  BURGSTEINFURT 1        5782150       2595695   \n",
       "3        DARFELD 1        5769500       2589130   \n",
       "4   MUENSTERLAND 1                                \n",
       "5           RWTH 1  50.7782021318   6.078583178   \n",
       "6                       50.789331      6.293797   \n",
       "7                       50.789331      6.293797   \n",
       "8        CAL-GT-02       51.48896        6.0835   \n",
       "\n",
       "                         geometry  \n",
       "0  POINT (438641.230 5758096.990)  \n",
       "1  POINT (394910.680 5775672.320)  \n",
       "2  POINT (390425.930 5780565.180)  \n",
       "3  POINT (383346.040 5768201.560)  \n",
       "4  POINT (386176.360 5763283.150)  \n",
       "5  POINT (292940.412 5629218.740)  \n",
       "6  POINT (303075.420 5629294.000)  \n",
       "7  POINT (303075.420 5629294.000)  \n",
       "8  POINT (286488.659 5848230.143)  "
      ]
     },
     "execution_count": 46,
     "metadata": {},
     "output_type": "execute_result"
    }
   ],
   "source": [
    "from shapely.geometry import Point\n",
    "\n",
    "#building geoDataFrames \n",
    "\n",
    "_geometry = [Point(xy) for xy in zip(_x, _y)]\n",
    "cols = {'well': _wellnames, 'lat' : _lat, 'long' : _long}#, geometry: _geometry }\n",
    "df = pd.DataFrame(cols)\n",
    "loc_gdf = gpd.GeoDataFrame(cols, geometry=_geometry, crs='EPSG:32633')\n",
    "#_wells[1].location.latitude\n",
    "loc_gdf\n",
    "#_wells[i].name"
   ]
  },
  {
   "cell_type": "code",
   "execution_count": 47,
   "metadata": {},
   "outputs": [
    {
     "data": {
      "text/plain": [
       "<Axes: >"
      ]
     },
     "execution_count": 47,
     "metadata": {},
     "output_type": "execute_result"
    },
    {
     "data": {
      "image/png": "[encoded data removed]",
      "text/plain": [
       "<Figure size 1000x1000 with 1 Axes>"
      ]
     },
     "metadata": {},
     "output_type": "display_data"
    }
   ],
   "source": [
    "# and plotting\n",
    "de = gpd.read_file('C:\\\\Users\\\\ada55080\\\\maps_and_shape_files\\\\germany\\\\NRW\\\\dvg2rbz_nw.shp', set_crs='EPSG:4326')\n",
    "loc_gdf.plot(ax=de.plot(figsize=(10,10)), marker='o', color='red', legend=True, alpha=.5)"
   ]
  },
  {
   "cell_type": "code",
   "execution_count": null,
   "metadata": {},
   "outputs": [],
   "source": []
  },
  {
   "cell_type": "code",
   "execution_count": null,
   "metadata": {},
   "outputs": [],
   "source": []
  },
  {
   "cell_type": "code",
   "execution_count": null,
   "metadata": {},
   "outputs": [],
   "source": []
  }
 ],
 "metadata": {
  "kernelspec": {
   "display_name": "Python 3.10.12 ('logs')",
   "language": "python",
   "name": "python3"
  },
  "language_info": {
   "codemirror_mode": {
    "name": "ipython",
    "version": 3
   },
   "file_extension": ".py",
   "mimetype": "text/x-python",
   "name": "python",
   "nbconvert_exporter": "python",
   "pygments_lexer": "ipython3",
   "version": "3.10.12"
  },
  "orig_nbformat": 4,
  "vscode": {
   "interpreter": {
    "hash": "ca07079fb647387d381c7dc469ac4ae928fd880fc570ea3fba10928fc9e48eeb"
   }
  }
 },
 "nbformat": 4,
 "nbformat_minor": 2
}
