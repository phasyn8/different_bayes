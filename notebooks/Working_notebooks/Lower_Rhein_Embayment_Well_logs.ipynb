{
 "cells": [
  {
   "cell_type": "code",
   "execution_count": 2,
   "metadata": {},
   "outputs": [
    {
     "ename": "ModuleNotFoundError",
     "evalue": "No module named 'geopandas'",
     "output_type": "error",
     "traceback": [
      "\u001b[1;31m---------------------------------------------------------------------------\u001b[0m",
      "\u001b[1;31mModuleNotFoundError\u001b[0m                       Traceback (most recent call last)",
      "Cell \u001b[1;32mIn[2], line 6\u001b[0m\n\u001b[0;32m      3\u001b[0m \u001b[38;5;28;01mimport\u001b[39;00m \u001b[38;5;21;01mpandas\u001b[39;00m \u001b[38;5;28;01mas\u001b[39;00m \u001b[38;5;21;01mpd\u001b[39;00m\n\u001b[0;32m      4\u001b[0m \u001b[38;5;28;01mimport\u001b[39;00m \u001b[38;5;21;01mmatplotlib\u001b[39;00m\u001b[38;5;21;01m.\u001b[39;00m\u001b[38;5;21;01mpyplot\u001b[39;00m \u001b[38;5;28;01mas\u001b[39;00m \u001b[38;5;21;01mplt\u001b[39;00m\n\u001b[1;32m----> 6\u001b[0m \u001b[38;5;28;01mimport\u001b[39;00m \u001b[38;5;21;01mgeopandas\u001b[39;00m \u001b[38;5;28;01mas\u001b[39;00m \u001b[38;5;21;01mgpd\u001b[39;00m\n",
      "\u001b[1;31mModuleNotFoundError\u001b[0m: No module named 'geopandas'"
     ]
    }
   ],
   "source": [
    "import welly\n",
    "import numpy as np\n",
    "import pandas as pd\n",
    "import matplotlib.pyplot as plt\n",
    "\n",
    "import geopandas as gpd"
   ]
  },
  {
   "cell_type": "markdown",
   "metadata": {},
   "source": [
    "#### Well logs in the Münsterland and lower rhein embayment region of Germany.\n",
    "\n",
    "List of wells Longest to shortest Measured depth are:\n",
    "\n",
    "munst1 = Münsterland-1 \n",
    "\n",
    "darf1 = Darfeld-1\n",
    "\n",
    "bSteinfur1 = Burgsteinfurt-1\n",
    "\n",
    "bHorst1 = Borghorst-1\n",
    "\n",
    "vMold1 = Versmold-1\n",
    "\n",
    "hast1 = HASTENRATH -1\n",
    "\n",
    "hast2 = HASTENRATH -2\n",
    "\n",
    "rwth1  = RWTH-1  \n",
    "\n",
    "Mol - GT - 01 #Not yet included:\n",
    "\n",
    "Californie - GT"
   ]
  },
  {
   "cell_type": "code",
   "execution_count": null,
   "metadata": {},
   "outputs": [],
   "source": [
    "path = 'C:\\\\Users\\\\ada55080\\\\well_data\\\\'"
   ]
  },
  {
   "cell_type": "code",
   "execution_count": null,
   "metadata": {},
   "outputs": [],
   "source": [
    "#read the LAS files \n",
    "\n",
    "#Münsterland\n",
    "munst1 = welly.Well.from_las(path + 'Muensterland_1\\\\18018_Muensterland-1.las')\n",
    "darf1 = welly.Well.from_las(path + 'Darfeld_1\\\\17943_phy_Darfeld-1_SP_RES.las')\n",
    "bsteinfur1 = welly.Well.from_las(path + 'Burgsteinfurt_1\\\\12453_phy_Burgsteinfurt-1_CALI_SP_SN_LN_LAT_RES_SPN.las')\n",
    "bhorst1 = welly.Well.from_las(path + 'Borghorst_1\\\\12646_phy_Borghorst-1_SN_LN_LAT_RES_SP.las')\n",
    "vmold1 = welly.Well.from_las(path + 'Versmold_1\\\\33579_phy_GE-1124_Versmold1_Composite.las')\n",
    "\n",
    "#The Netherlands\n",
    "calie = welly.Well.from_las(path + 'californie-GT-02\\\\5673_calgt02_2012_comp.las')\n",
    "\n",
    "# loosely Georeferenced Aachen Area\n",
    "rwth1 = welly.Well.from_las(path + 'RWTH1W1\\\\results_23_8_05.las') \n",
    "hast1 = welly.Well.from_las(path + 'HAST\\\\314532 HAST 1.las')\n",
    "hast2 = welly.Well.from_las(path + 'HAST\\\\331686_HAST 2.las')"
   ]
  },
  {
   "cell_type": "code",
   "execution_count": null,
   "metadata": {},
   "outputs": [],
   "source": [
    "#Adding missing location data\n",
    "\n",
    "hast1.name = 'hast1'\n",
    "hast1.location.x = 303075.42\n",
    "hast1.location.y = 5629294.00\n",
    "hast1.location.latitude = 50.789331#° N\n",
    "hast1.location.longitude = 6.293797#° E\n",
    "hast1.location.datum = 'WGS 84'\n",
    "\n",
    "hast2.name = 'hast2'\n",
    "hast2.location.x = 303075.42\n",
    "hast2.location.y = 5629294.00\n",
    "hast2.location.latitude = 50.789331#° N\n",
    "hast2.location.longitude = 6.293797#° E\n",
    "hast2.location.datum = 'WGS 84'\n",
    "\n",
    "calie.name = 'caliefornie-GT-02'\n",
    "#calie.location.x = \n",
    "#calie.location.y = \n",
    "calie.location.latitude = 51.48896#° N\n",
    "calie.location.longitude = 6.08350#° E\n",
    "calie.location.datum = 'WGS 84'\n",
    "\n",
    "rwth1.location.x = 292940.4123\n",
    "rwth1.location.y = 5629218.74\n",
    "rwth1.location.latitude = 50.778202131799475#° N\n",
    "rwth1.location.longitude = 6.078583178011505#° E\n",
    "rwth1.location.datum = 'WGS 84'"
   ]
  },
  {
   "cell_type": "code",
   "execution_count": null,
   "metadata": {},
   "outputs": [],
   "source": [
    "#Checks that the LAS are read\n",
    "vmold1, bhorst1, bsteinfur1, darf1, munst1, hast1, hast2, rwth1"
   ]
  },
  {
   "cell_type": "code",
   "execution_count": null,
   "metadata": {},
   "outputs": [],
   "source": [
    "_wells = [vmold1, bhorst1, bsteinfur1, darf1, munst1, rwth1, hast1, hast2, calie]"
   ]
  },
  {
   "cell_type": "code",
   "execution_count": null,
   "metadata": {},
   "outputs": [],
   "source": [
    "# building lists of well inputs\n",
    "\n",
    "cols = {'well': _wells}\n",
    "#loc_df = pd.DataFrame(cols)\n",
    "_lat = []\n",
    "_long = []\n",
    "_x = []\n",
    "_y = []\n",
    "_wellnames = []\n",
    "for i in range(len(_wells)):#, range(len(_wells))):\n",
    "    _wellnames.append(_wells[i].name)\n",
    "    _lat.append(_wells[i].location.latitude)\n",
    "    _long.append(_wells[i].location.longitude)\n",
    "    _x.append(_wells[i].location.x)\n",
    "    _y.append(_wells[i].location.y)\n",
    "\n",
    "for well in _wells:\n",
    "    print(well.location)\n",
    "\n",
    "_long, _lat, _x , _y"
   ]
  },
  {
   "cell_type": "code",
   "execution_count": null,
   "metadata": {},
   "outputs": [],
   "source": [
    "from shapely.geometry import Point\n",
    "\n",
    "#building geoDataFrames \n",
    "\n",
    "_geometry = [Point(xy) for xy in zip(_x, _y)]\n",
    "cols = {'well': _wellnames, 'lat' : _lat, 'long' : _long}#, geometry: _geometry }\n",
    "df = pd.DataFrame(cols)\n",
    "loc_gdf = gpd.GeoDataFrame(cols, geometry=_geometry, crs='EPSG:32633')\n",
    "#_wells[1].location.latitude\n",
    "loc_gdf\n",
    "#_wells[i].name"
   ]
  },
  {
   "cell_type": "code",
   "execution_count": null,
   "metadata": {},
   "outputs": [],
   "source": [
    "# and plotting\n",
    "de = gpd.read_file('C:\\\\Users\\\\ada55080\\\\maps_and_shape_files\\\\germany\\\\NRW\\\\dvg2rbz_nw.shp', set_crs='EPSG:4326')\n",
    "loc_gdf.plot(ax=de.plot(figsize=(10,10)), marker='o', color='red', legend=True, alpha=.5)"
   ]
  },
  {
   "cell_type": "code",
   "execution_count": null,
   "metadata": {},
   "outputs": [],
   "source": []
  },
  {
   "cell_type": "code",
   "execution_count": null,
   "metadata": {},
   "outputs": [],
   "source": []
  },
  {
   "cell_type": "code",
   "execution_count": null,
   "metadata": {},
   "outputs": [],
   "source": []
  }
 ],
 "metadata": {
  "kernelspec": {
   "display_name": "Python 3.10.0 ('gp230')",
   "language": "python",
   "name": "python3"
  },
  "language_info": {
   "codemirror_mode": {
    "name": "ipython",
    "version": 3
   },
   "file_extension": ".py",
   "mimetype": "text/x-python",
   "name": "python",
   "nbconvert_exporter": "python",
   "pygments_lexer": "ipython3",
   "version": "3.10.0"
  },
  "orig_nbformat": 4,
  "vscode": {
   "interpreter": {
    "hash": "c79ab37e09ed17ad4c7350577502c86d504df4fee16bd486a7deb2a65597b7d6"
   }
  }
 },
 "nbformat": 4,
 "nbformat_minor": 2
}
