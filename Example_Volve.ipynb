{
 "cells": [
  {
   "cell_type": "code",
   "execution_count": 10,
   "metadata": {},
   "outputs": [],
   "source": [
    "import matplotlib.pyplot as plt\n",
    "import numpy as np\n",
    "import ruptures as rpt\n",
    "import welly\n",
    "import pandas as pd\n",
    "import cp_comparitor as cp_comp\n",
    "import change_point_tools as cptools\n",
    "import well_tools as wtools"
   ]
  },
  {
   "cell_type": "code",
   "execution_count": 5,
   "metadata": {},
   "outputs": [],
   "source": [
    "path = 'C:\\\\Users\\\\ada55080\\\\git\\different_bayes\\\\volve_well_data\\\\'"
   ]
  },
  {
   "cell_type": "code",
   "execution_count": 6,
   "metadata": {},
   "outputs": [],
   "source": [
    "#setting global variables for the ruptures PELT parameters pen and min_size \n",
    " \n",
    "f1A = welly.Well.from_las(path + '15_9-F-1A\\\\15_9-F-1A.las')\n",
    "f1B = welly.Well.from_las(path + '15_9-F-1B\\\\15_9-F-1B.las')\n",
    "f1C = welly.Well.from_las(path + '15_9-F-1C\\\\15_9-F-1C.las')\n",
    "f11A = welly.Well.from_las(path + '15_9-F-11A\\\\15_9-F-11A.las')\n",
    "f11B = welly.Well.from_las(path + '15_9-F-11B\\\\15_9-F-11B.las')"
   ]
  },
  {
   "cell_type": "markdown",
   "metadata": {},
   "source": [
    "Importing libraries and loading Equinor's Offshore Volve oil field data (Open sourced) "
   ]
  },
  {
   "cell_type": "code",
   "execution_count": 16,
   "metadata": {},
   "outputs": [
    {
     "ename": "NameError",
     "evalue": "name 'well_tools' is not defined",
     "output_type": "error",
     "traceback": [
      "\u001b[1;31m---------------------------------------------------------------------------\u001b[0m",
      "\u001b[1;31mNameError\u001b[0m                                 Traceback (most recent call last)",
      "Cell \u001b[1;32mIn[16], line 1\u001b[0m\n\u001b[1;32m----> 1\u001b[0m wtools \u001b[38;5;241m=\u001b[39m \u001b[43mwell_tools\u001b[49m()\n",
      "\u001b[1;31mNameError\u001b[0m: name 'well_tools' is not defined"
     ]
    }
   ],
   "source": [
    "wtools = wtools.well_tools()"
   ]
  },
  {
   "cell_type": "markdown",
   "metadata": {},
   "source": [
    "The following dictionaries are global place holder variables."
   ]
  },
  {
   "cell_type": "code",
   "execution_count": 7,
   "metadata": {},
   "outputs": [],
   "source": [
    "\n",
    "\n",
    "#Rolling average parameters\n",
    "\n",
    "window = 30\n",
    "periods = 3\n",
    "\n",
    "#setting global variables for the ruptures PELT parameters pen and min_size \n",
    "RHOB_glob_pen = 0.5\n",
    "RHOB_glob_min = 10\n",
    "\n",
    "NPHI_glob_pen = 0.1\n",
    "NPHI_glob_min = 10\n",
    "\n",
    "GR_glob_pen = 1300\n",
    "GR_glob_min = 10\n",
    "\n",
    "\n",
    "#string label varables\n",
    "dataGR = 'GR'\n",
    "dataRHOB = 'RHO'\n",
    "dataNPHI = 'PHI'\n",
    "\n",
    "#Well names lists for automation\n",
    "_wellnames = ['df_f1A', 'df_f1B', 'df_f1C', 'df_f11A', 'df_f11B']\n",
    "_wells = [f1A, f1B, f1C, f11A, f11B]\n",
    "_log_list = {'NPHI','RHOB','GR','DT','PEF'}\n",
    "\n",
    "#Dictionaries for log extents\n",
    "\n",
    "# _log_extent_min = {'f1A' : 2620, 'f1B' : 3100 , 'f1C': 3100 , 'f11A' : 2600 , 'f11B': 3200 }\n",
    "# _log_extent_max = {'f1A' : 3600, 'f1B' : 3400 , 'f1C': 4100 , 'f11A' : 3700 , 'f11B': 4550 }\n",
    "_log_extent_min = {0 : 2620, 1 : 3100 , 2: 3100 , 3 : 2600 , 4: 3200 }\n",
    "_log_extent_max = {0: 3600, 1 : 3400 , 2: 4100 , 3 : 3700 , 4: 4550 }"
   ]
  },
  {
   "cell_type": "code",
   "execution_count": 15,
   "metadata": {},
   "outputs": [
    {
     "ename": "AttributeError",
     "evalue": "module 'well_tools' has no attribute 'compute_all_rolling_avg'",
     "output_type": "error",
     "traceback": [
      "\u001b[1;31m---------------------------------------------------------------------------\u001b[0m",
      "\u001b[1;31mAttributeError\u001b[0m                            Traceback (most recent call last)",
      "Cell \u001b[1;32mIn[15], line 12\u001b[0m\n\u001b[0;32m      6\u001b[0m df_f11B \u001b[38;5;241m=\u001b[39m _wells[\u001b[38;5;241m4\u001b[39m]\u001b[38;5;241m.\u001b[39mdf(_log_list)\n\u001b[0;32m      8\u001b[0m \u001b[38;5;66;03m#NaN handling (simple dataset average replaces all NaN's)\u001b[39;00m\n\u001b[0;32m      9\u001b[0m \n\u001b[0;32m     10\u001b[0m \n\u001b[0;32m     11\u001b[0m \u001b[38;5;66;03m#Computing rolling average, appending to the dataframe\u001b[39;00m\n\u001b[1;32m---> 12\u001b[0m data_f1A \u001b[38;5;241m=\u001b[39m \u001b[43mwtools\u001b[49m\u001b[38;5;241;43m.\u001b[39;49m\u001b[43mcompute_all_rolling_avg\u001b[49m(df_f1A, window, periods)\n\u001b[0;32m     13\u001b[0m \u001b[38;5;66;03m#data_f1B = compute_all_rolling_avg(df_f1B, window, periods)\u001b[39;00m\n\u001b[0;32m     14\u001b[0m \u001b[38;5;66;03m#data_f1C = wtools.compute_all_rolling_avg(df_f1C, window, periods)\u001b[39;00m\n\u001b[0;32m     15\u001b[0m \u001b[38;5;66;03m#data_f11A = wtools.compute_all_rolling_avg(df_f11A, window, periods)\u001b[39;00m\n\u001b[0;32m     16\u001b[0m \u001b[38;5;66;03m#data_f11B = wtools.compute_all_rolling_avg(df_f11B, window, periods)\u001b[39;00m\n",
      "\u001b[1;31mAttributeError\u001b[0m: module 'well_tools' has no attribute 'compute_all_rolling_avg'"
     ]
    }
   ],
   "source": [
    "# Writing well log values to dataframe, index is MD(measured depth)\n",
    "df_f1A = _wells[0].df(_log_list)\n",
    "df_f1B = _wells[1].df(_log_list)\n",
    "df_f1C = _wells[2].df(_log_list)\n",
    "df_f11A = _wells[3].df(_log_list)\n",
    "df_f11B = _wells[4].df(_log_list)\n",
    "\n",
    "#NaN handling (simple dataset average replaces all NaN's)\n",
    "\n",
    "\n",
    "#Computing rolling average, appending to the dataframe\n",
    "data_f1A = wtools.compute_all_rolling_avg(df_f1A, window, periods)\n",
    "#data_f1B = compute_all_rolling_avg(df_f1B, window, periods)\n",
    "#data_f1C = wtools.compute_all_rolling_avg(df_f1C, window, periods)\n",
    "#data_f11A = wtools.compute_all_rolling_avg(df_f11A, window, periods)\n",
    "#data_f11B = wtools.compute_all_rolling_avg(df_f11B, window, periods)"
   ]
  },
  {
   "cell_type": "code",
   "execution_count": null,
   "metadata": {},
   "outputs": [],
   "source": []
  }
 ],
 "metadata": {
  "kernelspec": {
   "display_name": "Python 3.11.0 ('pymc_env')",
   "language": "python",
   "name": "python3"
  },
  "language_info": {
   "codemirror_mode": {
    "name": "ipython",
    "version": 3
   },
   "file_extension": ".py",
   "mimetype": "text/x-python",
   "name": "python",
   "nbconvert_exporter": "python",
   "pygments_lexer": "ipython3",
   "version": "3.11.0"
  },
  "orig_nbformat": 4,
  "vscode": {
   "interpreter": {
    "hash": "8c556e3d56e28520964e3eb42f3baaf1d45abbc83c81024cc438b2b82fe9c3a5"
   }
  }
 },
 "nbformat": 4,
 "nbformat_minor": 2
}
