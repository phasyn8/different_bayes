{
 "cells": [
  {
   "cell_type": "code",
   "execution_count": 34,
   "metadata": {},
   "outputs": [],
   "source": [
    "import numpy as np\n",
    "import pandas as pd\n",
    "import matplotlib.pyplot as plt\n",
    "import scipy.stats as stats\n"
   ]
  },
  {
   "cell_type": "code",
   "execution_count": 29,
   "metadata": {},
   "outputs": [
    {
     "name": "stdout",
     "output_type": "stream",
     "text": [
      "John\n"
     ]
    }
   ],
   "source": [
    "def my_function(**kwargs):\n",
    "    #for key, value in kwargs.items():\n",
    "    #print(kwargs.items())\n",
    "    #key, value = kwargs.items()\n",
    "    operator = kwargs.get('name')\n",
    "    #dict_items['name']\n",
    "    #name\n",
    "    #ame = kwargs.name\n",
    "    print(operator)\n",
    "#rint(name)        \n",
    "# Example usage\n",
    "my_function(name=\"John\", age=30, city=\"New York\")"
   ]
  },
  {
   "cell_type": "code",
   "execution_count": 59,
   "metadata": {},
   "outputs": [
    {
     "name": "stdout",
     "output_type": "stream",
     "text": [
      "[-0.23704745029528096, -0.10366138571589728, -0.02205233850104013, 0.049934057713788, 0.18124498453072027, 0.2698991079186527, 0.3682539682539683, 0.42846184492429484, 0.6203106231944494, 0.7492471785859446, 0.8276744495124294, 1.0, 0.8112259596460696, 0.6592210954125852, 0.3872123909947709, 0.031746031746031744, -0.18991809400471768, -0.35378932881812697, -0.3691512792359271, -0.44027116475144695, -0.46857730905870226, -0.48513829247155604] [0.37671188942634193, 0.7024299586564989, 0.9353917870340402, 0.8542900567052687, 0.5017306840026252, 0.31204279327014467, 0.1604888111796536, 0.09775896602290722, 0.010357583687154564, 0.0008353659768593689, 7.572335086741064e-05, 0.0, 0.00013682732419489303, 0.005473216109788009, 0.13841035992440048, 0.9070884104833401, 0.48111994579244866, 0.17884134790096648, 0.1593937031096053, 0.08788023287564983, 0.06714236214636411, 0.05680899526152251]\n"
     ]
    },
    {
     "data": {
      "text/plain": [
       "(11, 11)"
      ]
     },
     "execution_count": 59,
     "metadata": {},
     "output_type": "execute_result"
    }
   ],
   "source": [
    "vec1 = np.array([0,0,0,0,0,0,0,0,0,0,0,0,1,1,1,2,2,3,3,4,3,3,3,2,2,2,1,1,1,1,0,0,0,0,0,0,0,0,0,0,0,0,0,0,0,0,0,0,0,0,0,0])\n",
    "vec2 = np.array([0,1,1,1,2,2,3,3,4,3,3,3,2,2,2,1,1,1,1,0,0,0,0,0,0,0,0,0,0,0])\n",
    "\n",
    "stat = []\n",
    "pvalue = []\n",
    "\n",
    "for i in range(len(vec1)-len(vec2)):\n",
    "    SigRes = (stats.spearmanr(vec1[i:i+16],vec2[:16]))\n",
    "    stat.append(SigRes.statistic)\n",
    "    pvalue.append(SigRes.pvalue)\n",
    "statAray = np.array(stat)\n",
    "pvalueAray = np.array(pvalue)\n",
    "print(stat,pvalue)\n",
    "statAray.argmax(), pvalueAray.argmin()"
   ]
  },
  {
   "cell_type": "code",
   "execution_count": null,
   "metadata": {},
   "outputs": [],
   "source": []
  }
 ],
 "metadata": {
  "kernelspec": {
   "display_name": "Python 3.11.0 ('pymc_env')",
   "language": "python",
   "name": "python3"
  },
  "language_info": {
   "codemirror_mode": {
    "name": "ipython",
    "version": 3
   },
   "file_extension": ".py",
   "mimetype": "text/x-python",
   "name": "python",
   "nbconvert_exporter": "python",
   "pygments_lexer": "ipython3",
   "version": "3.11.0"
  },
  "orig_nbformat": 4,
  "vscode": {
   "interpreter": {
    "hash": "8c556e3d56e28520964e3eb42f3baaf1d45abbc83c81024cc438b2b82fe9c3a5"
   }
  }
 },
 "nbformat": 4,
 "nbformat_minor": 2
}
